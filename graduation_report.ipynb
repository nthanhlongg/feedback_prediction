{
 "cells": [
  {
   "cell_type": "markdown",
   "id": "0909f0b3-5be4-4234-b29d-3daa4d58b9a9",
   "metadata": {},
   "source": [
    "# <center>Ứng dụng Machine Learning trong bài toán phân tích hệ thống kinh doanh tại công ty MCI</center>\n",
    "\n",
    "**`feedback-mci-2.xlsx`** là tập dataset được sử dụng để dựa vào phản hồi của Học viên khi đã tham gia các khoá học tại MCI, thông qua đánh giá của Học viên và việc xây dựng các mô hình Học máy phù hợp, doanh nghiệp có thể đánh giá được các tiêu chí phù hợp để Học viên tiếp tục học và có thể giới thiệu cho bạn bè, đồng nghiệp, hoặc đội ngũ Marketing chạy ads hay plan các chương trình hợp lí.\n",
    "- **#**: Số thứ tự\n",
    "- **timestamp**: Thời gian gửi feedback\n",
    "- **name**: Tên Học viên\n",
    "- **class_code**: Mã lớp Học viên tham gia\n",
    "- **course_name**: Tên khoá học tương ứng\n",
    "- **lecturer_name**: Tên giảng viên\n",
    "- **feedback_time**: Thời điểm feedback\n",
    "- **understanding_level**: Mức độ hiểu bài\n",
    "- **understanding_comment**: Bình luận về mức độ hiểu bài\n",
    "- **expertise_level**: Độ thành thạo\n",
    "- **enthusiatic_level**: Độ nhiệt huyết\n",
    "- **approachable_level**: Độ có thể tiếp cận\n",
    "- **satisfaction_level**: Độ hài lòng\n",
    "- **unsatisfaction_thing**: Điều chưa hài lòng\n",
    "- **building_comment**: Xây dựng, đóng góp\n",
    "- **study_aboard**: Có ý định đi du học hay không?\n",
    "- **continued**: Tiếp tục tham gia các khoá học khác của MCI hay không?\n",
    "\n",
    "Trong bài toán xây dựng mô hình này, chúng ta sẽ sử dụng thuật toán **Decision Tree, Random Forest, Logistic Regression** để thực hiện, sau đó sẽ tìm ra mô hình thuật toán phù hợp nhất với tập dữ liệu `feedback-mci-2.xlsx` và tiến hành đưa vào trong hệ thống của MCI."
   ]
  },
  {
   "cell_type": "markdown",
   "id": "3ba11ddd-a3c0-4204-8587-22fe0d89ff3e",
   "metadata": {},
   "source": [
    "## 1. Gọi các thư viện cần thiết và tập dữ liệu cần sử dụng (Import libraries and dataset)"
   ]
  },
  {
   "cell_type": "code",
   "execution_count": 1,
   "id": "b6290969-e51a-488a-9018-fb49a232d110",
   "metadata": {},
   "outputs": [],
   "source": [
    "import numpy as np\n",
    "import pandas as pd\n",
    "import matplotlib.pyplot as plt\n",
    "import seaborn as sns\n",
    "from pandas import ExcelFile\n",
    "from sklearn.model_selection import train_test_split\n",
    "from sklearn.linear_model import LogisticRegression\n",
    "from sklearn.tree import DecisionTreeClassifier, plot_tree\n",
    "from sklearn.ensemble import RandomForestClassifier\n",
    "from imblearn.over_sampling import SMOTE\n",
    "from sklearn.metrics import accuracy_score, classification_report, confusion_matrix, plot_confusion_matrix"
   ]
  },
  {
   "cell_type": "code",
   "execution_count": 2,
   "id": "eb207805-3a29-447e-ac91-c3606279c5bd",
   "metadata": {},
   "outputs": [
    {
     "data": {
      "text/html": [
       "<div>\n",
       "<style scoped>\n",
       "    .dataframe tbody tr th:only-of-type {\n",
       "        vertical-align: middle;\n",
       "    }\n",
       "\n",
       "    .dataframe tbody tr th {\n",
       "        vertical-align: top;\n",
       "    }\n",
       "\n",
       "    .dataframe thead th {\n",
       "        text-align: right;\n",
       "    }\n",
       "</style>\n",
       "<table border=\"1\" class=\"dataframe\">\n",
       "  <thead>\n",
       "    <tr style=\"text-align: right;\">\n",
       "      <th></th>\n",
       "      <th>timestamp</th>\n",
       "      <th>name</th>\n",
       "      <th>class_code</th>\n",
       "      <th>course_name</th>\n",
       "      <th>lecturer_name</th>\n",
       "      <th>feedback_time</th>\n",
       "      <th>understanding_level</th>\n",
       "      <th>understanding_comment</th>\n",
       "      <th>expertise_level</th>\n",
       "      <th>enthusiatic_level</th>\n",
       "      <th>approachable_level</th>\n",
       "      <th>satisfaction_level</th>\n",
       "      <th>unsatisfaction_thing</th>\n",
       "      <th>building_comment</th>\n",
       "      <th>study_abroad</th>\n",
       "      <th>continued</th>\n",
       "    </tr>\n",
       "  </thead>\n",
       "  <tbody>\n",
       "    <tr>\n",
       "      <th>0</th>\n",
       "      <td>2021-06-15 17:13:00</td>\n",
       "      <td>NaN</td>\n",
       "      <td>PY33SA6L1</td>\n",
       "      <td>Python</td>\n",
       "      <td>Viet Anh Nguyen vietanh</td>\n",
       "      <td>Feedback cuối khóa</td>\n",
       "      <td>Còn một số chỗ chưa chắc</td>\n",
       "      <td>NaN</td>\n",
       "      <td>5</td>\n",
       "      <td>4</td>\n",
       "      <td>5</td>\n",
       "      <td>5</td>\n",
       "      <td>NaN</td>\n",
       "      <td>NaN</td>\n",
       "      <td>Yes</td>\n",
       "      <td>Tiếp tục</td>\n",
       "    </tr>\n",
       "    <tr>\n",
       "      <th>1</th>\n",
       "      <td>2021-06-15 17:13:00</td>\n",
       "      <td>NaN</td>\n",
       "      <td>PY33SA6L1</td>\n",
       "      <td>Python</td>\n",
       "      <td>Viet Anh Nguyen vietanh</td>\n",
       "      <td>Feedback cuối khóa</td>\n",
       "      <td>Đã nắm chắc</td>\n",
       "      <td>NaN</td>\n",
       "      <td>4</td>\n",
       "      <td>4</td>\n",
       "      <td>4</td>\n",
       "      <td>4</td>\n",
       "      <td>NaN</td>\n",
       "      <td>NaN</td>\n",
       "      <td>No</td>\n",
       "      <td>Dừng hợp tác</td>\n",
       "    </tr>\n",
       "    <tr>\n",
       "      <th>2</th>\n",
       "      <td>2021-06-15 17:47:00</td>\n",
       "      <td>NaN</td>\n",
       "      <td>PY33SA6L1</td>\n",
       "      <td>Python</td>\n",
       "      <td>Viet Anh Nguyen vietanh</td>\n",
       "      <td>Feedback cuối khóa</td>\n",
       "      <td>Đã nắm chắc</td>\n",
       "      <td>NaN</td>\n",
       "      <td>3</td>\n",
       "      <td>4</td>\n",
       "      <td>4</td>\n",
       "      <td>4</td>\n",
       "      <td>NaN</td>\n",
       "      <td>NaN</td>\n",
       "      <td>No</td>\n",
       "      <td>Dừng hợp tác</td>\n",
       "    </tr>\n",
       "    <tr>\n",
       "      <th>3</th>\n",
       "      <td>2021-06-17 10:44:00</td>\n",
       "      <td>NaN</td>\n",
       "      <td>PY33SA6L1</td>\n",
       "      <td>Python</td>\n",
       "      <td>Viet Anh Nguyen vietanh</td>\n",
       "      <td>Feedback cuối khóa</td>\n",
       "      <td>Đã nắm chắc</td>\n",
       "      <td>NaN</td>\n",
       "      <td>4</td>\n",
       "      <td>5</td>\n",
       "      <td>4</td>\n",
       "      <td>4</td>\n",
       "      <td>NaN</td>\n",
       "      <td>NaN</td>\n",
       "      <td>No</td>\n",
       "      <td>Tiếp tục</td>\n",
       "    </tr>\n",
       "    <tr>\n",
       "      <th>4</th>\n",
       "      <td>2021-06-18 10:15:00</td>\n",
       "      <td>NaN</td>\n",
       "      <td>V21SA6L1</td>\n",
       "      <td>VBA</td>\n",
       "      <td>Phiên Huỳnh Ngọc PhienHN</td>\n",
       "      <td>Feedback cuối khóa</td>\n",
       "      <td>Đã nắm chắc</td>\n",
       "      <td>NaN</td>\n",
       "      <td>5</td>\n",
       "      <td>4</td>\n",
       "      <td>5</td>\n",
       "      <td>5</td>\n",
       "      <td>NaN</td>\n",
       "      <td>NaN</td>\n",
       "      <td>No</td>\n",
       "      <td>Tiếp tục</td>\n",
       "    </tr>\n",
       "  </tbody>\n",
       "</table>\n",
       "</div>"
      ],
      "text/plain": [
       "            timestamp name class_code course_name             lecturer_name  \\\n",
       "0 2021-06-15 17:13:00  NaN  PY33SA6L1      Python   Viet Anh Nguyen vietanh   \n",
       "1 2021-06-15 17:13:00  NaN  PY33SA6L1      Python   Viet Anh Nguyen vietanh   \n",
       "2 2021-06-15 17:47:00  NaN  PY33SA6L1      Python   Viet Anh Nguyen vietanh   \n",
       "3 2021-06-17 10:44:00  NaN  PY33SA6L1      Python   Viet Anh Nguyen vietanh   \n",
       "4 2021-06-18 10:15:00  NaN   V21SA6L1         VBA  Phiên Huỳnh Ngọc PhienHN   \n",
       "\n",
       "        feedback_time       understanding_level understanding_comment  \\\n",
       "0  Feedback cuối khóa  Còn một số chỗ chưa chắc                   NaN   \n",
       "1  Feedback cuối khóa               Đã nắm chắc                   NaN   \n",
       "2  Feedback cuối khóa               Đã nắm chắc                   NaN   \n",
       "3  Feedback cuối khóa               Đã nắm chắc                   NaN   \n",
       "4  Feedback cuối khóa               Đã nắm chắc                   NaN   \n",
       "\n",
       "   expertise_level  enthusiatic_level  approachable_level  satisfaction_level  \\\n",
       "0                5                  4                   5                   5   \n",
       "1                4                  4                   4                   4   \n",
       "2                3                  4                   4                   4   \n",
       "3                4                  5                   4                   4   \n",
       "4                5                  4                   5                   5   \n",
       "\n",
       "  unsatisfaction_thing building_comment study_abroad     continued  \n",
       "0                  NaN              NaN          Yes      Tiếp tục  \n",
       "1                  NaN              NaN           No  Dừng hợp tác  \n",
       "2                  NaN              NaN           No  Dừng hợp tác  \n",
       "3                  NaN              NaN           No      Tiếp tục  \n",
       "4                  NaN              NaN           No      Tiếp tục  "
      ]
     },
     "execution_count": 2,
     "metadata": {},
     "output_type": "execute_result"
    }
   ],
   "source": [
    "df = pd.read_excel('feedback-mci-2.xlsx')\n",
    "df = df.drop(columns=\"#\")\n",
    "df.head()"
   ]
  },
  {
   "cell_type": "markdown",
   "id": "f85b9ea7-114e-4ce6-b9af-a0f08374da73",
   "metadata": {
    "tags": []
   },
   "source": [
    "## 2. Exploratory Data Analysis (EDA)\n",
    "- Bước EDA này giúp chúng ta có cái nhìn đầu tiên về dữ liệu. Chúng ta cần có một cảm giác nhất định về những gì mình có trong tay trước khi có những chiến lược xây dựng mô hình. EDA giúp ta mường tượng được độ phức tạp của bài toán và vạch ra những bước đầu tiên cần làm."
   ]
  },
  {
   "cell_type": "code",
   "execution_count": 3,
   "id": "8dbe5ba0-1cf9-4f2f-ad85-187f3f08e6d5",
   "metadata": {},
   "outputs": [
    {
     "data": {
      "text/plain": [
       "(1419, 16)"
      ]
     },
     "execution_count": 3,
     "metadata": {},
     "output_type": "execute_result"
    }
   ],
   "source": [
    "# Kiểm tra có tổng bao nhiêu cột và bao nhiêu dòng?\n",
    "df.shape"
   ]
  },
  {
   "cell_type": "markdown",
   "id": "f400120e-5597-4271-badf-c8903d9f345e",
   "metadata": {},
   "source": [
    "- Có 1419 dòng và 16 cột"
   ]
  },
  {
   "cell_type": "code",
   "execution_count": 4,
   "id": "8e255c2c-6ff7-4794-ae6b-870541cd6b0f",
   "metadata": {},
   "outputs": [
    {
     "name": "stdout",
     "output_type": "stream",
     "text": [
      "<class 'pandas.core.frame.DataFrame'>\n",
      "RangeIndex: 1419 entries, 0 to 1418\n",
      "Data columns (total 16 columns):\n",
      " #   Column                 Non-Null Count  Dtype         \n",
      "---  ------                 --------------  -----         \n",
      " 0   timestamp              1419 non-null   datetime64[ns]\n",
      " 1   name                   1061 non-null   object        \n",
      " 2   class_code             1419 non-null   object        \n",
      " 3   course_name            1419 non-null   object        \n",
      " 4   lecturer_name          1419 non-null   object        \n",
      " 5   feedback_time          1419 non-null   object        \n",
      " 6   understanding_level    1419 non-null   object        \n",
      " 7   understanding_comment  940 non-null    object        \n",
      " 8   expertise_level        1419 non-null   int64         \n",
      " 9   enthusiatic_level      1419 non-null   int64         \n",
      " 10  approachable_level     1419 non-null   int64         \n",
      " 11  satisfaction_level     1419 non-null   int64         \n",
      " 12  unsatisfaction_thing   551 non-null    object        \n",
      " 13  building_comment       382 non-null    object        \n",
      " 14  study_abroad           1419 non-null   object        \n",
      " 15  continued              1419 non-null   object        \n",
      "dtypes: datetime64[ns](1), int64(4), object(11)\n",
      "memory usage: 177.5+ KB\n"
     ]
    }
   ],
   "source": [
    "# Kiểm tra dữ liệu có bị thiếu hay không?\n",
    "df.info()"
   ]
  },
  {
   "cell_type": "markdown",
   "id": "c0e58d61-50db-4955-b89b-50dee9b90b51",
   "metadata": {},
   "source": [
    "**=> Có 1 cột kiểu datetime, 4 cột kiểu integer, 11 cột kiểu string. Trong đó:**\n",
    "- 4 cột đang có missing value là **understanding_comment, name, building_comment, unsatisfaction_thing**"
   ]
  },
  {
   "cell_type": "code",
   "execution_count": 5,
   "id": "642ee811-c5cb-4149-90d8-6bbcab408ee4",
   "metadata": {},
   "outputs": [
    {
     "data": {
      "text/html": [
       "<div>\n",
       "<style scoped>\n",
       "    .dataframe tbody tr th:only-of-type {\n",
       "        vertical-align: middle;\n",
       "    }\n",
       "\n",
       "    .dataframe tbody tr th {\n",
       "        vertical-align: top;\n",
       "    }\n",
       "\n",
       "    .dataframe thead th {\n",
       "        text-align: right;\n",
       "    }\n",
       "</style>\n",
       "<table border=\"1\" class=\"dataframe\">\n",
       "  <thead>\n",
       "    <tr style=\"text-align: right;\">\n",
       "      <th></th>\n",
       "      <th>expertise_level</th>\n",
       "      <th>enthusiatic_level</th>\n",
       "      <th>approachable_level</th>\n",
       "      <th>satisfaction_level</th>\n",
       "    </tr>\n",
       "  </thead>\n",
       "  <tbody>\n",
       "    <tr>\n",
       "      <th>count</th>\n",
       "      <td>1419.000000</td>\n",
       "      <td>1419.000000</td>\n",
       "      <td>1419.000000</td>\n",
       "      <td>1419.000000</td>\n",
       "    </tr>\n",
       "    <tr>\n",
       "      <th>mean</th>\n",
       "      <td>4.603946</td>\n",
       "      <td>4.682171</td>\n",
       "      <td>4.540521</td>\n",
       "      <td>4.525018</td>\n",
       "    </tr>\n",
       "    <tr>\n",
       "      <th>std</th>\n",
       "      <td>0.608715</td>\n",
       "      <td>0.584025</td>\n",
       "      <td>0.667828</td>\n",
       "      <td>0.683196</td>\n",
       "    </tr>\n",
       "    <tr>\n",
       "      <th>min</th>\n",
       "      <td>1.000000</td>\n",
       "      <td>1.000000</td>\n",
       "      <td>1.000000</td>\n",
       "      <td>1.000000</td>\n",
       "    </tr>\n",
       "    <tr>\n",
       "      <th>25%</th>\n",
       "      <td>4.000000</td>\n",
       "      <td>4.000000</td>\n",
       "      <td>4.000000</td>\n",
       "      <td>4.000000</td>\n",
       "    </tr>\n",
       "    <tr>\n",
       "      <th>50%</th>\n",
       "      <td>5.000000</td>\n",
       "      <td>5.000000</td>\n",
       "      <td>5.000000</td>\n",
       "      <td>5.000000</td>\n",
       "    </tr>\n",
       "    <tr>\n",
       "      <th>75%</th>\n",
       "      <td>5.000000</td>\n",
       "      <td>5.000000</td>\n",
       "      <td>5.000000</td>\n",
       "      <td>5.000000</td>\n",
       "    </tr>\n",
       "    <tr>\n",
       "      <th>max</th>\n",
       "      <td>5.000000</td>\n",
       "      <td>5.000000</td>\n",
       "      <td>5.000000</td>\n",
       "      <td>5.000000</td>\n",
       "    </tr>\n",
       "  </tbody>\n",
       "</table>\n",
       "</div>"
      ],
      "text/plain": [
       "       expertise_level  enthusiatic_level  approachable_level  \\\n",
       "count      1419.000000        1419.000000         1419.000000   \n",
       "mean          4.603946           4.682171            4.540521   \n",
       "std           0.608715           0.584025            0.667828   \n",
       "min           1.000000           1.000000            1.000000   \n",
       "25%           4.000000           4.000000            4.000000   \n",
       "50%           5.000000           5.000000            5.000000   \n",
       "75%           5.000000           5.000000            5.000000   \n",
       "max           5.000000           5.000000            5.000000   \n",
       "\n",
       "       satisfaction_level  \n",
       "count         1419.000000  \n",
       "mean             4.525018  \n",
       "std              0.683196  \n",
       "min              1.000000  \n",
       "25%              4.000000  \n",
       "50%              5.000000  \n",
       "75%              5.000000  \n",
       "max              5.000000  "
      ]
     },
     "execution_count": 5,
     "metadata": {},
     "output_type": "execute_result"
    }
   ],
   "source": [
    "# Kiểm tra phân bố của dữ liệu (áp dụng với các cột dạng int)\n",
    "df.describe()"
   ]
  },
  {
   "cell_type": "markdown",
   "id": "ef3798eb-44a5-4a0a-be36-ee112906b74c",
   "metadata": {},
   "source": [
    "## 3. Feature Engineering"
   ]
  },
  {
   "cell_type": "markdown",
   "id": "463ad47d-102e-47e6-8044-1af659541239",
   "metadata": {},
   "source": [
    "#### `Chuyển các cột từ dạng string về số dạng nominal`"
   ]
  },
  {
   "cell_type": "code",
   "execution_count": 6,
   "id": "ab0afdc9-690a-4120-b261-a6798be8561f",
   "metadata": {},
   "outputs": [],
   "source": [
    "df1 = pd.read_excel('feedback-mci-2.xlsx')\n",
    "df1 = df1.drop(columns=\"#\")"
   ]
  },
  {
   "cell_type": "code",
   "execution_count": 7,
   "id": "5122b797-5dcd-48c3-9a88-0b6e2f11173c",
   "metadata": {},
   "outputs": [
    {
     "data": {
      "text/html": [
       "<div>\n",
       "<style scoped>\n",
       "    .dataframe tbody tr th:only-of-type {\n",
       "        vertical-align: middle;\n",
       "    }\n",
       "\n",
       "    .dataframe tbody tr th {\n",
       "        vertical-align: top;\n",
       "    }\n",
       "\n",
       "    .dataframe thead th {\n",
       "        text-align: right;\n",
       "    }\n",
       "</style>\n",
       "<table border=\"1\" class=\"dataframe\">\n",
       "  <thead>\n",
       "    <tr style=\"text-align: right;\">\n",
       "      <th></th>\n",
       "      <th>timestamp</th>\n",
       "      <th>name</th>\n",
       "      <th>class_code</th>\n",
       "      <th>course_name</th>\n",
       "      <th>lecturer_name</th>\n",
       "      <th>feedback_time</th>\n",
       "      <th>understanding_level</th>\n",
       "      <th>understanding_comment</th>\n",
       "      <th>expertise_level</th>\n",
       "      <th>enthusiatic_level</th>\n",
       "      <th>approachable_level</th>\n",
       "      <th>satisfaction_level</th>\n",
       "      <th>unsatisfaction_thing</th>\n",
       "      <th>building_comment</th>\n",
       "      <th>study_abroad</th>\n",
       "      <th>continued</th>\n",
       "    </tr>\n",
       "  </thead>\n",
       "  <tbody>\n",
       "    <tr>\n",
       "      <th>0</th>\n",
       "      <td>2021-06-15 17:13:00</td>\n",
       "      <td>NaN</td>\n",
       "      <td>PY33SA6L1</td>\n",
       "      <td>Python</td>\n",
       "      <td>Viet Anh Nguyen vietanh</td>\n",
       "      <td>Feedback cuối khóa</td>\n",
       "      <td>Còn một số chỗ chưa chắc</td>\n",
       "      <td>NaN</td>\n",
       "      <td>5</td>\n",
       "      <td>4</td>\n",
       "      <td>5</td>\n",
       "      <td>5</td>\n",
       "      <td>NaN</td>\n",
       "      <td>NaN</td>\n",
       "      <td>Yes</td>\n",
       "      <td>1</td>\n",
       "    </tr>\n",
       "    <tr>\n",
       "      <th>1</th>\n",
       "      <td>2021-06-15 17:13:00</td>\n",
       "      <td>NaN</td>\n",
       "      <td>PY33SA6L1</td>\n",
       "      <td>Python</td>\n",
       "      <td>Viet Anh Nguyen vietanh</td>\n",
       "      <td>Feedback cuối khóa</td>\n",
       "      <td>Đã nắm chắc</td>\n",
       "      <td>NaN</td>\n",
       "      <td>4</td>\n",
       "      <td>4</td>\n",
       "      <td>4</td>\n",
       "      <td>4</td>\n",
       "      <td>NaN</td>\n",
       "      <td>NaN</td>\n",
       "      <td>No</td>\n",
       "      <td>0</td>\n",
       "    </tr>\n",
       "    <tr>\n",
       "      <th>2</th>\n",
       "      <td>2021-06-15 17:47:00</td>\n",
       "      <td>NaN</td>\n",
       "      <td>PY33SA6L1</td>\n",
       "      <td>Python</td>\n",
       "      <td>Viet Anh Nguyen vietanh</td>\n",
       "      <td>Feedback cuối khóa</td>\n",
       "      <td>Đã nắm chắc</td>\n",
       "      <td>NaN</td>\n",
       "      <td>3</td>\n",
       "      <td>4</td>\n",
       "      <td>4</td>\n",
       "      <td>4</td>\n",
       "      <td>NaN</td>\n",
       "      <td>NaN</td>\n",
       "      <td>No</td>\n",
       "      <td>0</td>\n",
       "    </tr>\n",
       "    <tr>\n",
       "      <th>3</th>\n",
       "      <td>2021-06-17 10:44:00</td>\n",
       "      <td>NaN</td>\n",
       "      <td>PY33SA6L1</td>\n",
       "      <td>Python</td>\n",
       "      <td>Viet Anh Nguyen vietanh</td>\n",
       "      <td>Feedback cuối khóa</td>\n",
       "      <td>Đã nắm chắc</td>\n",
       "      <td>NaN</td>\n",
       "      <td>4</td>\n",
       "      <td>5</td>\n",
       "      <td>4</td>\n",
       "      <td>4</td>\n",
       "      <td>NaN</td>\n",
       "      <td>NaN</td>\n",
       "      <td>No</td>\n",
       "      <td>1</td>\n",
       "    </tr>\n",
       "    <tr>\n",
       "      <th>4</th>\n",
       "      <td>2021-06-18 10:15:00</td>\n",
       "      <td>NaN</td>\n",
       "      <td>V21SA6L1</td>\n",
       "      <td>VBA</td>\n",
       "      <td>Phiên Huỳnh Ngọc PhienHN</td>\n",
       "      <td>Feedback cuối khóa</td>\n",
       "      <td>Đã nắm chắc</td>\n",
       "      <td>NaN</td>\n",
       "      <td>5</td>\n",
       "      <td>4</td>\n",
       "      <td>5</td>\n",
       "      <td>5</td>\n",
       "      <td>NaN</td>\n",
       "      <td>NaN</td>\n",
       "      <td>No</td>\n",
       "      <td>1</td>\n",
       "    </tr>\n",
       "  </tbody>\n",
       "</table>\n",
       "</div>"
      ],
      "text/plain": [
       "            timestamp name class_code course_name             lecturer_name  \\\n",
       "0 2021-06-15 17:13:00  NaN  PY33SA6L1      Python   Viet Anh Nguyen vietanh   \n",
       "1 2021-06-15 17:13:00  NaN  PY33SA6L1      Python   Viet Anh Nguyen vietanh   \n",
       "2 2021-06-15 17:47:00  NaN  PY33SA6L1      Python   Viet Anh Nguyen vietanh   \n",
       "3 2021-06-17 10:44:00  NaN  PY33SA6L1      Python   Viet Anh Nguyen vietanh   \n",
       "4 2021-06-18 10:15:00  NaN   V21SA6L1         VBA  Phiên Huỳnh Ngọc PhienHN   \n",
       "\n",
       "        feedback_time       understanding_level understanding_comment  \\\n",
       "0  Feedback cuối khóa  Còn một số chỗ chưa chắc                   NaN   \n",
       "1  Feedback cuối khóa               Đã nắm chắc                   NaN   \n",
       "2  Feedback cuối khóa               Đã nắm chắc                   NaN   \n",
       "3  Feedback cuối khóa               Đã nắm chắc                   NaN   \n",
       "4  Feedback cuối khóa               Đã nắm chắc                   NaN   \n",
       "\n",
       "   expertise_level  enthusiatic_level  approachable_level  satisfaction_level  \\\n",
       "0                5                  4                   5                   5   \n",
       "1                4                  4                   4                   4   \n",
       "2                3                  4                   4                   4   \n",
       "3                4                  5                   4                   4   \n",
       "4                5                  4                   5                   5   \n",
       "\n",
       "  unsatisfaction_thing building_comment study_abroad  continued  \n",
       "0                  NaN              NaN          Yes          1  \n",
       "1                  NaN              NaN           No          0  \n",
       "2                  NaN              NaN           No          0  \n",
       "3                  NaN              NaN           No          1  \n",
       "4                  NaN              NaN           No          1  "
      ]
     },
     "execution_count": 7,
     "metadata": {},
     "output_type": "execute_result"
    }
   ],
   "source": [
    "continued_rpl = {'Tiếp tục': 1,\n",
    "            'Dừng hợp tác': 0}\n",
    "df.continued = df.continued.map(continued_rpl)\n",
    "df1.continued = df1.continued.map(continued_rpl)\n",
    "df.head()"
   ]
  },
  {
   "cell_type": "code",
   "execution_count": 8,
   "id": "b32c604b-15a2-4821-93a5-7890b8a3bedb",
   "metadata": {},
   "outputs": [
    {
     "data": {
      "text/html": [
       "<div>\n",
       "<style scoped>\n",
       "    .dataframe tbody tr th:only-of-type {\n",
       "        vertical-align: middle;\n",
       "    }\n",
       "\n",
       "    .dataframe tbody tr th {\n",
       "        vertical-align: top;\n",
       "    }\n",
       "\n",
       "    .dataframe thead th {\n",
       "        text-align: right;\n",
       "    }\n",
       "</style>\n",
       "<table border=\"1\" class=\"dataframe\">\n",
       "  <thead>\n",
       "    <tr style=\"text-align: right;\">\n",
       "      <th></th>\n",
       "      <th>timestamp</th>\n",
       "      <th>name</th>\n",
       "      <th>class_code</th>\n",
       "      <th>course_name</th>\n",
       "      <th>lecturer_name</th>\n",
       "      <th>feedback_time</th>\n",
       "      <th>understanding_level</th>\n",
       "      <th>understanding_comment</th>\n",
       "      <th>expertise_level</th>\n",
       "      <th>enthusiatic_level</th>\n",
       "      <th>approachable_level</th>\n",
       "      <th>satisfaction_level</th>\n",
       "      <th>unsatisfaction_thing</th>\n",
       "      <th>building_comment</th>\n",
       "      <th>study_abroad</th>\n",
       "      <th>continued</th>\n",
       "    </tr>\n",
       "  </thead>\n",
       "  <tbody>\n",
       "    <tr>\n",
       "      <th>0</th>\n",
       "      <td>2021-06-15 17:13:00</td>\n",
       "      <td>NaN</td>\n",
       "      <td>PY33SA6L1</td>\n",
       "      <td>Python</td>\n",
       "      <td>Viet Anh Nguyen vietanh</td>\n",
       "      <td>Feedback cuối khóa</td>\n",
       "      <td>Còn một số chỗ chưa chắc</td>\n",
       "      <td>NaN</td>\n",
       "      <td>5</td>\n",
       "      <td>4</td>\n",
       "      <td>5</td>\n",
       "      <td>5</td>\n",
       "      <td>NaN</td>\n",
       "      <td>NaN</td>\n",
       "      <td>1</td>\n",
       "      <td>1</td>\n",
       "    </tr>\n",
       "    <tr>\n",
       "      <th>1</th>\n",
       "      <td>2021-06-15 17:13:00</td>\n",
       "      <td>NaN</td>\n",
       "      <td>PY33SA6L1</td>\n",
       "      <td>Python</td>\n",
       "      <td>Viet Anh Nguyen vietanh</td>\n",
       "      <td>Feedback cuối khóa</td>\n",
       "      <td>Đã nắm chắc</td>\n",
       "      <td>NaN</td>\n",
       "      <td>4</td>\n",
       "      <td>4</td>\n",
       "      <td>4</td>\n",
       "      <td>4</td>\n",
       "      <td>NaN</td>\n",
       "      <td>NaN</td>\n",
       "      <td>0</td>\n",
       "      <td>0</td>\n",
       "    </tr>\n",
       "    <tr>\n",
       "      <th>2</th>\n",
       "      <td>2021-06-15 17:47:00</td>\n",
       "      <td>NaN</td>\n",
       "      <td>PY33SA6L1</td>\n",
       "      <td>Python</td>\n",
       "      <td>Viet Anh Nguyen vietanh</td>\n",
       "      <td>Feedback cuối khóa</td>\n",
       "      <td>Đã nắm chắc</td>\n",
       "      <td>NaN</td>\n",
       "      <td>3</td>\n",
       "      <td>4</td>\n",
       "      <td>4</td>\n",
       "      <td>4</td>\n",
       "      <td>NaN</td>\n",
       "      <td>NaN</td>\n",
       "      <td>0</td>\n",
       "      <td>0</td>\n",
       "    </tr>\n",
       "    <tr>\n",
       "      <th>3</th>\n",
       "      <td>2021-06-17 10:44:00</td>\n",
       "      <td>NaN</td>\n",
       "      <td>PY33SA6L1</td>\n",
       "      <td>Python</td>\n",
       "      <td>Viet Anh Nguyen vietanh</td>\n",
       "      <td>Feedback cuối khóa</td>\n",
       "      <td>Đã nắm chắc</td>\n",
       "      <td>NaN</td>\n",
       "      <td>4</td>\n",
       "      <td>5</td>\n",
       "      <td>4</td>\n",
       "      <td>4</td>\n",
       "      <td>NaN</td>\n",
       "      <td>NaN</td>\n",
       "      <td>0</td>\n",
       "      <td>1</td>\n",
       "    </tr>\n",
       "    <tr>\n",
       "      <th>4</th>\n",
       "      <td>2021-06-18 10:15:00</td>\n",
       "      <td>NaN</td>\n",
       "      <td>V21SA6L1</td>\n",
       "      <td>VBA</td>\n",
       "      <td>Phiên Huỳnh Ngọc PhienHN</td>\n",
       "      <td>Feedback cuối khóa</td>\n",
       "      <td>Đã nắm chắc</td>\n",
       "      <td>NaN</td>\n",
       "      <td>5</td>\n",
       "      <td>4</td>\n",
       "      <td>5</td>\n",
       "      <td>5</td>\n",
       "      <td>NaN</td>\n",
       "      <td>NaN</td>\n",
       "      <td>0</td>\n",
       "      <td>1</td>\n",
       "    </tr>\n",
       "  </tbody>\n",
       "</table>\n",
       "</div>"
      ],
      "text/plain": [
       "            timestamp name class_code course_name             lecturer_name  \\\n",
       "0 2021-06-15 17:13:00  NaN  PY33SA6L1      Python   Viet Anh Nguyen vietanh   \n",
       "1 2021-06-15 17:13:00  NaN  PY33SA6L1      Python   Viet Anh Nguyen vietanh   \n",
       "2 2021-06-15 17:47:00  NaN  PY33SA6L1      Python   Viet Anh Nguyen vietanh   \n",
       "3 2021-06-17 10:44:00  NaN  PY33SA6L1      Python   Viet Anh Nguyen vietanh   \n",
       "4 2021-06-18 10:15:00  NaN   V21SA6L1         VBA  Phiên Huỳnh Ngọc PhienHN   \n",
       "\n",
       "        feedback_time       understanding_level understanding_comment  \\\n",
       "0  Feedback cuối khóa  Còn một số chỗ chưa chắc                   NaN   \n",
       "1  Feedback cuối khóa               Đã nắm chắc                   NaN   \n",
       "2  Feedback cuối khóa               Đã nắm chắc                   NaN   \n",
       "3  Feedback cuối khóa               Đã nắm chắc                   NaN   \n",
       "4  Feedback cuối khóa               Đã nắm chắc                   NaN   \n",
       "\n",
       "   expertise_level  enthusiatic_level  approachable_level  satisfaction_level  \\\n",
       "0                5                  4                   5                   5   \n",
       "1                4                  4                   4                   4   \n",
       "2                3                  4                   4                   4   \n",
       "3                4                  5                   4                   4   \n",
       "4                5                  4                   5                   5   \n",
       "\n",
       "  unsatisfaction_thing building_comment  study_abroad  continued  \n",
       "0                  NaN              NaN             1          1  \n",
       "1                  NaN              NaN             0          0  \n",
       "2                  NaN              NaN             0          0  \n",
       "3                  NaN              NaN             0          1  \n",
       "4                  NaN              NaN             0          1  "
      ]
     },
     "execution_count": 8,
     "metadata": {},
     "output_type": "execute_result"
    }
   ],
   "source": [
    "study_ab = {'Yes': 1,\n",
    "            'No': 0}\n",
    "df.study_abroad = df.study_abroad.map(study_ab)\n",
    "df1.study_abroad = df1.study_abroad.map(study_ab)\n",
    "df.head()"
   ]
  },
  {
   "cell_type": "code",
   "execution_count": 9,
   "id": "9c3a85cf-3099-4767-ade2-05e44458e797",
   "metadata": {},
   "outputs": [],
   "source": [
    "from sklearn.preprocessing import LabelEncoder\n",
    "\n",
    "le = LabelEncoder()\n",
    "lecturer_label = le.fit_transform(df['lecturer_name'])\n",
    "lecturer_mappings = {index: label for index, label in \n",
    "                  enumerate(le.classes_)}\n",
    "df.lecturer_name = le.transform(df.lecturer_name)"
   ]
  },
  {
   "cell_type": "code",
   "execution_count": 10,
   "id": "6929b0db-50ec-46bb-bcbf-5dea99b4c4b9",
   "metadata": {},
   "outputs": [],
   "source": [
    "from sklearn.preprocessing import LabelEncoder\n",
    "\n",
    "le = LabelEncoder()\n",
    "understanding_label = le.fit_transform(df['understanding_level'])\n",
    "understanding_mappings = {index: label for index, label in \n",
    "                  enumerate(le.classes_)}\n",
    "df.understanding_level = le.transform(df.understanding_level)"
   ]
  },
  {
   "cell_type": "code",
   "execution_count": 11,
   "id": "345babda-90a2-4c85-9eaf-85ea7ce15947",
   "metadata": {},
   "outputs": [],
   "source": [
    "from sklearn.preprocessing import LabelEncoder\n",
    "\n",
    "le = LabelEncoder()\n",
    "course_label = le.fit_transform(df['course_name'])\n",
    "course_mappings = {index: label for index, label in \n",
    "                  enumerate(le.classes_)}\n",
    "df.course_name = le.transform(df.course_name)"
   ]
  },
  {
   "cell_type": "code",
   "execution_count": 66,
   "id": "cff87038-dccb-4784-89e7-77f288a9d056",
   "metadata": {},
   "outputs": [
    {
     "data": {
      "text/plain": [
       "{0: 'Bình Đinh Công binhdinh',\n",
       " 1: 'Bùi Tú Tubt',\n",
       " 2: 'Chuong Nguyen chuongnm',\n",
       " 3: 'Hieu Nguyen hieunguyen1496@gmail.com',\n",
       " 4: 'Huy Thạch Quang huytq',\n",
       " 5: 'Hùng Nguyễn Mạnh hungnm',\n",
       " 6: 'Hạnh Trần Thị Hồng hanhtth',\n",
       " 7: 'Hồng Đỗ Bích Hongdb',\n",
       " 8: 'Khanh Nguyen khanhnguyen94',\n",
       " 9: 'Khoa Nguyễn Võ Đăng nkhoa1987',\n",
       " 10: 'Khánh Tạ khanhta',\n",
       " 11: 'Kim Dung Ha dung.hakim',\n",
       " 12: 'LA QUOC LUONG laquocluong',\n",
       " 13: 'Le Thao thaolt.ba',\n",
       " 14: 'Linh Lương Mỹ Linh.ltm',\n",
       " 15: 'Linh Tran linhtrankt53',\n",
       " 16: 'Lê Như Gia Bình lenhugiabinh@gmail.com',\n",
       " 17: 'Lạc Phạm Xuân nguoibanso25',\n",
       " 18: 'Minh Đinh Công minhdc2',\n",
       " 19: 'Nghị Tống Châu tongnghi',\n",
       " 20: 'Nguyen Huu Minh minhhuunguyen',\n",
       " 21: 'Nguyễn Mạnh Trường nmtruong',\n",
       " 22: 'Nguyễn Thị Lam Phương Phuongntl',\n",
       " 23: 'Nguyễn Tiến Đình dinhuit',\n",
       " 24: 'Ngô Hoàng Quốc Tân tanquoc0309',\n",
       " 25: 'Nhi Nguyễn Hoàng nhinguyen1807',\n",
       " 26: 'Phan Duy Thanh thanhmk4@gmail.com',\n",
       " 27: 'Phiên Huỳnh Ngọc PhienHN',\n",
       " 28: 'Phạm Nguyên Hạnh Hanhpn',\n",
       " 29: 'Thanh Phan Duy thanhmk4@gmail.com',\n",
       " 30: 'Thi Nguyễn Thị Minh Thi',\n",
       " 31: 'Thinh Do Phu dpthinh',\n",
       " 32: 'Thái Doãn Hoàng thaidh',\n",
       " 33: 'Tiến Nguyễn Đức ndtien',\n",
       " 34: 'Tiến Ngô Đức ndtien',\n",
       " 35: 'Toan Doan Manh toandm',\n",
       " 36: 'Toàn Bùi Đức toanbui',\n",
       " 37: 'Toàn Vũ vutoan',\n",
       " 38: 'Trung Lê Xuân TrungLe',\n",
       " 39: 'Trực Hoàng Đỗ Can Truchdc',\n",
       " 40: 'Tuong Nguyen nguyendinhtuong',\n",
       " 41: 'Viet Anh Nguyen vietanh',\n",
       " 42: 'Vũ Nguyễn Anh vuna.vcb',\n",
       " 43: 'Vũ Ngô Định vu.ngo',\n",
       " 44: 'Vũ Đinh VuDinh',\n",
       " 45: 'Đinh Quang Vũ qvdinh',\n",
       " 46: 'Đỗ Văn Hiếu dohieu6868'}"
      ]
     },
     "execution_count": 66,
     "metadata": {},
     "output_type": "execute_result"
    }
   ],
   "source": [
    "# Dictionary tên giảng viên được gán nhãn norminal\n",
    "lecturer_mappings"
   ]
  },
  {
   "cell_type": "code",
   "execution_count": 67,
   "id": "477a9031-9495-40e4-adc5-d3d9c97b2aac",
   "metadata": {},
   "outputs": [
    {
     "data": {
      "text/plain": [
       "{0: 'Chưa nắm được gì', 1: 'Còn một số chỗ chưa chắc', 2: 'Đã nắm chắc'}"
      ]
     },
     "execution_count": 67,
     "metadata": {},
     "output_type": "execute_result"
    }
   ],
   "source": [
    "understanding_mappings"
   ]
  },
  {
   "cell_type": "code",
   "execution_count": 68,
   "id": "ca65d8d4-c3b0-4fcb-993c-024a5a439b6f",
   "metadata": {},
   "outputs": [
    {
     "data": {
      "text/plain": [
       "{0: 'Business Analyst',\n",
       " 1: 'Excel',\n",
       " 2: 'PowerBI',\n",
       " 3: 'Python',\n",
       " 4: 'R',\n",
       " 5: 'SQL',\n",
       " 6: 'VBA'}"
      ]
     },
     "execution_count": 68,
     "metadata": {},
     "output_type": "execute_result"
    }
   ],
   "source": [
    "course_mappings"
   ]
  },
  {
   "cell_type": "markdown",
   "id": "bf2e17a6-7950-40d0-9f71-8422db7bb880",
   "metadata": {},
   "source": [
    "## 4. Trực quan hoá dữ liệu và nhận xét tổng quan"
   ]
  },
  {
   "cell_type": "markdown",
   "id": "735352e9-8d0b-4799-9ebe-817699a9ed45",
   "metadata": {},
   "source": [
    "### Đánh giá cột nhãn"
   ]
  },
  {
   "cell_type": "code",
   "execution_count": 12,
   "id": "54b5de31-193f-43f0-b640-5394a82113e8",
   "metadata": {},
   "outputs": [
    {
     "data": {
      "text/plain": [
       "1    1125\n",
       "0     294\n",
       "Name: continued, dtype: int64"
      ]
     },
     "execution_count": 12,
     "metadata": {},
     "output_type": "execute_result"
    }
   ],
   "source": [
    "number_continued = df1.continued.value_counts()\n",
    "number_continued"
   ]
  },
  {
   "cell_type": "code",
   "execution_count": 13,
   "id": "1b40bfbe-f9d7-43e1-8527-9e3c1c8465f1",
   "metadata": {},
   "outputs": [
    {
     "data": {
      "image/png": "[encoded data removed]",
      "text/plain": [
       "<Figure size 432x288 with 1 Axes>"
      ]
     },
     "metadata": {
      "needs_background": "light"
     },
     "output_type": "display_data"
    }
   ],
   "source": [
    "plt.bar(data=number_continued.reset_index(),x='index',height='continued')\n",
    "plt.show()"
   ]
  },
  {
   "cell_type": "code",
   "execution_count": 14,
   "id": "3623225f-f587-40ab-8dcf-8aa7da821a29",
   "metadata": {},
   "outputs": [
    {
     "data": {
      "image/png": "[encoded data removed]",
      "text/plain": [
       "<Figure size 432x288 with 1 Axes>"
      ]
     },
     "metadata": {},
     "output_type": "display_data"
    }
   ],
   "source": [
    "plt.pie(number_continued,autopct='%.2f%%',labels=number_continued.index)\n",
    "plt.title('Tỉ lệ % học viên tiếp tục học/dừng hợp tác')\n",
    "plt.show()"
   ]
  },
  {
   "cell_type": "markdown",
   "id": "5bec49a6-5215-4ed5-8adf-3ca4e797f671",
   "metadata": {},
   "source": [
    "**Tỉ lệ giữa `Dừng hợp tác` với `Tiếp tục học` là 20.72% và 79.28%**"
   ]
  },
  {
   "cell_type": "markdown",
   "id": "696e54c2-69fc-4b19-ba55-67f9ba4fd834",
   "metadata": {
    "tags": []
   },
   "source": [
    "### Kiểm tra phân phối của dữ liệu (áp dụng với các cột kiểu int)"
   ]
  },
  {
   "cell_type": "code",
   "execution_count": 15,
   "id": "82d92d7d-5d40-497c-9bd9-a5d62d12233b",
   "metadata": {},
   "outputs": [
    {
     "data": {
      "image/png": "[encoded data removed]",
      "text/plain": [
       "<Figure size 720x432 with 1 Axes>"
      ]
     },
     "metadata": {
      "needs_background": "light"
     },
     "output_type": "display_data"
    }
   ],
   "source": [
    "plt.figure(figsize=(10,6))\n",
    "sns.violinplot(data=df1[['expertise_level','enthusiatic_level','approachable_level','satisfaction_level']], orient = \"h\")\n",
    "plt.show()"
   ]
  },
  {
   "cell_type": "code",
   "execution_count": 16,
   "id": "ac11687a-b442-455f-97d6-0c6b1c5b3d2d",
   "metadata": {},
   "outputs": [
    {
     "data": {
      "image/png": "[encoded data removed]",
      "text/plain": [
       "<Figure size 720x432 with 1 Axes>"
      ]
     },
     "metadata": {
      "needs_background": "light"
     },
     "output_type": "display_data"
    }
   ],
   "source": [
    "plt.figure(figsize=(10,6))\n",
    "sns.boxplot(data=df1[['expertise_level','enthusiatic_level','approachable_level','satisfaction_level']], orient = \"h\")\n",
    "plt.show()"
   ]
  },
  {
   "cell_type": "markdown",
   "id": "6d0dd798-1b4f-4d71-9c3c-8076e241bbdc",
   "metadata": {},
   "source": [
    "**Nhận xét:**\n",
    "- Dữ liệu của các cột đều có đặc điểm chung là nằm nghiêng về bên phải. Nói cách khác, thang điểm 4 và 5 xuất hiện rất nhiều trong tập dữ liệu, dẫn đến đồ thị phân phối nằm nghiêng bên phải.\n",
    "- Các cột như **expertise_level, enthusiatic_level, approachable_level, satisfaction_level** có xu hướng đi theo 1 đặc điểm chung: Tập trung chủ yếu vào điểm 5 và 4 và ít dần ở điểm 3. Điểm 1 và 2 xuất hiện rất ít trong tập dữ liệu => Hình thành outlier trong phân phối."
   ]
  },
  {
   "cell_type": "code",
   "execution_count": 17,
   "id": "9ac79a83-e5ff-4659-ba51-656e847f24ec",
   "metadata": {},
   "outputs": [
    {
     "data": {
      "image/png": "[encoded data removed]",
      "text/plain": [
       "<Figure size 720x432 with 4 Axes>"
      ]
     },
     "metadata": {
      "needs_background": "light"
     },
     "output_type": "display_data"
    }
   ],
   "source": [
    "df1[['expertise_level','enthusiatic_level','approachable_level','satisfaction_level']].hist(bins=5, figsize=(10,6))\n",
    "plt.show()"
   ]
  },
  {
   "cell_type": "markdown",
   "id": "3d55f0ca-7304-4ca2-9f76-3a4293f6b387",
   "metadata": {},
   "source": [
    "**Nhận xét:**\n",
    "- Có thể thấy mức đánh giá điểm tập trung mạnh ở điểm 5, các điểm còn lại ít hơn đáng kể"
   ]
  },
  {
   "cell_type": "markdown",
   "id": "2ced652f-2644-41d7-b474-92590b37a5a1",
   "metadata": {},
   "source": [
    "### Tỉ lệ giữa tiếp tục học và dừng hợp tác theo từng bộ môn"
   ]
  },
  {
   "cell_type": "code",
   "execution_count": 18,
   "id": "a22b5179-a387-49f8-997d-189dab713e1c",
   "metadata": {},
   "outputs": [
    {
     "data": {
      "image/png": "[encoded data removed]",
      "text/plain": [
       "<Figure size 720x432 with 1 Axes>"
      ]
     },
     "metadata": {
      "needs_background": "light"
     },
     "output_type": "display_data"
    }
   ],
   "source": [
    "plt.figure(figsize=(10,6))\n",
    "sns.histplot(data=df1, x='course_name', hue='continued',kde=True)\n",
    "plt.show()"
   ]
  },
  {
   "cell_type": "markdown",
   "id": "03dfc115-7b74-412d-9e22-8ae2511d645d",
   "metadata": {},
   "source": [
    "**Insight 1 và đề xuất:**\n",
    "\n",
    "- Nhìn chung, các bộ môn sau khi học viên học đều đem lại trải nghiệm tốt, học viên phần lớn đều lựa chọn sẽ **Tiếp tục** học các khoá học khác tại trung tâm. Tuy nhiên, bộ môn Excel nhận được phản hồi **Dừng hợp tác** chiếm tỉ trọng khá lớn => MCI cần xem lại về giáo trình hay phương pháp giảng dạy cho bộ môn này.\n",
    "- Số lượng feedback của khoá Business Analyst và R khá thấp, tuy nhiên feedback cho khoá học này nhận được phản hồi rất tốt, tỉ lệ tiếp tục học lớn. Hai lí do cần chú ý:\n",
    "    - Dữ liệu thu thập được cho 2 khoá này không đủ, nên chưa có sự đánh giá chính xác nhất về khoá học này.\n",
    "    - Trong trường hợp dữ liệu thu thập được là đủ, MCI nên cân nhắc trong việc tập trung vào đào tạo 2 khoá học này hơn.\n"
   ]
  },
  {
   "cell_type": "code",
   "execution_count": 19,
   "id": "d1489083-4345-446d-8bb9-04f55aa22cf8",
   "metadata": {},
   "outputs": [
    {
     "data": {
      "text/html": [
       "<div>\n",
       "<style scoped>\n",
       "    .dataframe tbody tr th:only-of-type {\n",
       "        vertical-align: middle;\n",
       "    }\n",
       "\n",
       "    .dataframe tbody tr th {\n",
       "        vertical-align: top;\n",
       "    }\n",
       "\n",
       "    .dataframe thead th {\n",
       "        text-align: right;\n",
       "    }\n",
       "</style>\n",
       "<table border=\"1\" class=\"dataframe\">\n",
       "  <thead>\n",
       "    <tr style=\"text-align: right;\">\n",
       "      <th></th>\n",
       "      <th>course_name</th>\n",
       "      <th>lecturer_name</th>\n",
       "    </tr>\n",
       "  </thead>\n",
       "  <tbody>\n",
       "    <tr>\n",
       "      <th>102</th>\n",
       "      <td>Business Analyst</td>\n",
       "      <td>Le Thao thaolt.ba</td>\n",
       "    </tr>\n",
       "    <tr>\n",
       "      <th>478</th>\n",
       "      <td>Excel</td>\n",
       "      <td>Bình Đinh Công binhdinh</td>\n",
       "    </tr>\n",
       "    <tr>\n",
       "      <th>272</th>\n",
       "      <td>Excel</td>\n",
       "      <td>Trung Lê Xuân TrungLe</td>\n",
       "    </tr>\n",
       "    <tr>\n",
       "      <th>248</th>\n",
       "      <td>Excel</td>\n",
       "      <td>Tiến Nguyễn Đức ndtien</td>\n",
       "    </tr>\n",
       "    <tr>\n",
       "      <th>235</th>\n",
       "      <td>Excel</td>\n",
       "      <td>Tiến Ngô Đức ndtien</td>\n",
       "    </tr>\n",
       "    <tr>\n",
       "      <th>142</th>\n",
       "      <td>Excel</td>\n",
       "      <td>Kim Dung Ha dung.hakim</td>\n",
       "    </tr>\n",
       "    <tr>\n",
       "      <th>833</th>\n",
       "      <td>Excel</td>\n",
       "      <td>Phiên Huỳnh Ngọc PhienHN</td>\n",
       "    </tr>\n",
       "    <tr>\n",
       "      <th>1150</th>\n",
       "      <td>Excel</td>\n",
       "      <td>Khánh Tạ khanhta</td>\n",
       "    </tr>\n",
       "    <tr>\n",
       "      <th>1374</th>\n",
       "      <td>Excel</td>\n",
       "      <td>Nguyễn Thị Lam Phương Phuongntl</td>\n",
       "    </tr>\n",
       "    <tr>\n",
       "      <th>52</th>\n",
       "      <td>PowerBI</td>\n",
       "      <td>Hùng Nguyễn Mạnh hungnm</td>\n",
       "    </tr>\n",
       "    <tr>\n",
       "      <th>496</th>\n",
       "      <td>PowerBI</td>\n",
       "      <td>Nghị Tống Châu tongnghi</td>\n",
       "    </tr>\n",
       "    <tr>\n",
       "      <th>14</th>\n",
       "      <td>PowerBI</td>\n",
       "      <td>Hồng Đỗ Bích Hongdb</td>\n",
       "    </tr>\n",
       "    <tr>\n",
       "      <th>1348</th>\n",
       "      <td>PowerBI</td>\n",
       "      <td>Phan Duy Thanh thanhmk4@gmail.com</td>\n",
       "    </tr>\n",
       "    <tr>\n",
       "      <th>1180</th>\n",
       "      <td>PowerBI</td>\n",
       "      <td>Ngô Hoàng Quốc Tân tanquoc0309</td>\n",
       "    </tr>\n",
       "    <tr>\n",
       "      <th>1290</th>\n",
       "      <td>PowerBI</td>\n",
       "      <td>Linh Tran linhtrankt53</td>\n",
       "    </tr>\n",
       "    <tr>\n",
       "      <th>106</th>\n",
       "      <td>PowerBI</td>\n",
       "      <td>Nhi Nguyễn Hoàng nhinguyen1807</td>\n",
       "    </tr>\n",
       "    <tr>\n",
       "      <th>136</th>\n",
       "      <td>PowerBI</td>\n",
       "      <td>Toan Doan Manh toandm</td>\n",
       "    </tr>\n",
       "    <tr>\n",
       "      <th>375</th>\n",
       "      <td>PowerBI</td>\n",
       "      <td>Đinh Quang Vũ qvdinh</td>\n",
       "    </tr>\n",
       "    <tr>\n",
       "      <th>1162</th>\n",
       "      <td>PowerBI</td>\n",
       "      <td>Thanh Phan Duy thanhmk4@gmail.com</td>\n",
       "    </tr>\n",
       "    <tr>\n",
       "      <th>105</th>\n",
       "      <td>PowerBI</td>\n",
       "      <td>Toàn Bùi Đức toanbui</td>\n",
       "    </tr>\n",
       "    <tr>\n",
       "      <th>377</th>\n",
       "      <td>PowerBI</td>\n",
       "      <td>Vũ Đinh VuDinh</td>\n",
       "    </tr>\n",
       "    <tr>\n",
       "      <th>945</th>\n",
       "      <td>Python</td>\n",
       "      <td>Thinh Do Phu dpthinh</td>\n",
       "    </tr>\n",
       "    <tr>\n",
       "      <th>984</th>\n",
       "      <td>Python</td>\n",
       "      <td>Khoa Nguyễn Võ Đăng nkhoa1987</td>\n",
       "    </tr>\n",
       "    <tr>\n",
       "      <th>1335</th>\n",
       "      <td>Python</td>\n",
       "      <td>Đỗ Văn Hiếu dohieu6868</td>\n",
       "    </tr>\n",
       "    <tr>\n",
       "      <th>792</th>\n",
       "      <td>Python</td>\n",
       "      <td>Vũ Ngô Định vu.ngo</td>\n",
       "    </tr>\n",
       "    <tr>\n",
       "      <th>655</th>\n",
       "      <td>Python</td>\n",
       "      <td>Khanh Nguyen khanhnguyen94</td>\n",
       "    </tr>\n",
       "    <tr>\n",
       "      <th>1020</th>\n",
       "      <td>Python</td>\n",
       "      <td>Tuong Nguyen nguyendinhtuong</td>\n",
       "    </tr>\n",
       "    <tr>\n",
       "      <th>1194</th>\n",
       "      <td>Python</td>\n",
       "      <td>Nguyen Huu Minh minhhuunguyen</td>\n",
       "    </tr>\n",
       "    <tr>\n",
       "      <th>1356</th>\n",
       "      <td>Python</td>\n",
       "      <td>Hieu Nguyen hieunguyen1496@gmail.com</td>\n",
       "    </tr>\n",
       "    <tr>\n",
       "      <th>1361</th>\n",
       "      <td>Python</td>\n",
       "      <td>Nguyễn Tiến Đình dinhuit</td>\n",
       "    </tr>\n",
       "    <tr>\n",
       "      <th>1362</th>\n",
       "      <td>Python</td>\n",
       "      <td>Tiến Ngô Đức ndtien</td>\n",
       "    </tr>\n",
       "    <tr>\n",
       "      <th>0</th>\n",
       "      <td>Python</td>\n",
       "      <td>Viet Anh Nguyen vietanh</td>\n",
       "    </tr>\n",
       "    <tr>\n",
       "      <th>434</th>\n",
       "      <td>Python</td>\n",
       "      <td>Bình Đinh Công binhdinh</td>\n",
       "    </tr>\n",
       "    <tr>\n",
       "      <th>371</th>\n",
       "      <td>Python</td>\n",
       "      <td>Thái Doãn Hoàng thaidh</td>\n",
       "    </tr>\n",
       "    <tr>\n",
       "      <th>95</th>\n",
       "      <td>Python</td>\n",
       "      <td>Lạc Phạm Xuân nguoibanso25</td>\n",
       "    </tr>\n",
       "    <tr>\n",
       "      <th>35</th>\n",
       "      <td>Python</td>\n",
       "      <td>Chuong Nguyen chuongnm</td>\n",
       "    </tr>\n",
       "    <tr>\n",
       "      <th>55</th>\n",
       "      <td>Python</td>\n",
       "      <td>Thi Nguyễn Thị Minh Thi</td>\n",
       "    </tr>\n",
       "    <tr>\n",
       "      <th>23</th>\n",
       "      <td>Python</td>\n",
       "      <td>Nguyễn Mạnh Trường nmtruong</td>\n",
       "    </tr>\n",
       "    <tr>\n",
       "      <th>9</th>\n",
       "      <td>Python</td>\n",
       "      <td>Hạnh Trần Thị Hồng hanhtth</td>\n",
       "    </tr>\n",
       "    <tr>\n",
       "      <th>175</th>\n",
       "      <td>R</td>\n",
       "      <td>Vũ Nguyễn Anh vuna.vcb</td>\n",
       "    </tr>\n",
       "    <tr>\n",
       "      <th>907</th>\n",
       "      <td>R</td>\n",
       "      <td>Phiên Huỳnh Ngọc PhienHN</td>\n",
       "    </tr>\n",
       "    <tr>\n",
       "      <th>491</th>\n",
       "      <td>R</td>\n",
       "      <td>Bình Đinh Công binhdinh</td>\n",
       "    </tr>\n",
       "    <tr>\n",
       "      <th>1321</th>\n",
       "      <td>SQL</td>\n",
       "      <td>Phạm Nguyên Hạnh Hanhpn</td>\n",
       "    </tr>\n",
       "    <tr>\n",
       "      <th>1320</th>\n",
       "      <td>SQL</td>\n",
       "      <td>Lê Như Gia Bình lenhugiabinh@gmail.com</td>\n",
       "    </tr>\n",
       "    <tr>\n",
       "      <th>26</th>\n",
       "      <td>SQL</td>\n",
       "      <td>Toàn Bùi Đức toanbui</td>\n",
       "    </tr>\n",
       "    <tr>\n",
       "      <th>1274</th>\n",
       "      <td>SQL</td>\n",
       "      <td>Bùi Tú Tubt</td>\n",
       "    </tr>\n",
       "    <tr>\n",
       "      <th>1237</th>\n",
       "      <td>SQL</td>\n",
       "      <td>Toàn Vũ vutoan</td>\n",
       "    </tr>\n",
       "    <tr>\n",
       "      <th>27</th>\n",
       "      <td>SQL</td>\n",
       "      <td>Khanh Nguyen khanhnguyen94</td>\n",
       "    </tr>\n",
       "    <tr>\n",
       "      <th>24</th>\n",
       "      <td>SQL</td>\n",
       "      <td>Minh Đinh Công minhdc2</td>\n",
       "    </tr>\n",
       "    <tr>\n",
       "      <th>1299</th>\n",
       "      <td>SQL</td>\n",
       "      <td>Trực Hoàng Đỗ Can Truchdc</td>\n",
       "    </tr>\n",
       "    <tr>\n",
       "      <th>366</th>\n",
       "      <td>SQL</td>\n",
       "      <td>Bình Đinh Công binhdinh</td>\n",
       "    </tr>\n",
       "    <tr>\n",
       "      <th>1025</th>\n",
       "      <td>SQL</td>\n",
       "      <td>Thinh Do Phu dpthinh</td>\n",
       "    </tr>\n",
       "    <tr>\n",
       "      <th>67</th>\n",
       "      <td>SQL</td>\n",
       "      <td>Linh Lương Mỹ Linh.ltm</td>\n",
       "    </tr>\n",
       "    <tr>\n",
       "      <th>77</th>\n",
       "      <td>SQL</td>\n",
       "      <td>Huy Thạch Quang huytq</td>\n",
       "    </tr>\n",
       "    <tr>\n",
       "      <th>128</th>\n",
       "      <td>SQL</td>\n",
       "      <td>Tuong Nguyen nguyendinhtuong</td>\n",
       "    </tr>\n",
       "    <tr>\n",
       "      <th>810</th>\n",
       "      <td>SQL</td>\n",
       "      <td>Khoa Nguyễn Võ Đăng nkhoa1987</td>\n",
       "    </tr>\n",
       "    <tr>\n",
       "      <th>809</th>\n",
       "      <td>SQL</td>\n",
       "      <td>Thái Doãn Hoàng thaidh</td>\n",
       "    </tr>\n",
       "    <tr>\n",
       "      <th>180</th>\n",
       "      <td>SQL</td>\n",
       "      <td>LA QUOC LUONG laquocluong</td>\n",
       "    </tr>\n",
       "    <tr>\n",
       "      <th>352</th>\n",
       "      <td>SQL</td>\n",
       "      <td>Vũ Nguyễn Anh vuna.vcb</td>\n",
       "    </tr>\n",
       "    <tr>\n",
       "      <th>1142</th>\n",
       "      <td>SQL</td>\n",
       "      <td>Hieu Nguyen hieunguyen1496@gmail.com</td>\n",
       "    </tr>\n",
       "    <tr>\n",
       "      <th>676</th>\n",
       "      <td>VBA</td>\n",
       "      <td>Kim Dung Ha dung.hakim</td>\n",
       "    </tr>\n",
       "    <tr>\n",
       "      <th>643</th>\n",
       "      <td>VBA</td>\n",
       "      <td>Tiến Nguyễn Đức ndtien</td>\n",
       "    </tr>\n",
       "    <tr>\n",
       "      <th>4</th>\n",
       "      <td>VBA</td>\n",
       "      <td>Phiên Huỳnh Ngọc PhienHN</td>\n",
       "    </tr>\n",
       "    <tr>\n",
       "      <th>61</th>\n",
       "      <td>VBA</td>\n",
       "      <td>Tiến Ngô Đức ndtien</td>\n",
       "    </tr>\n",
       "  </tbody>\n",
       "</table>\n",
       "</div>"
      ],
      "text/plain": [
       "           course_name                           lecturer_name\n",
       "102   Business Analyst                       Le Thao thaolt.ba\n",
       "478              Excel                 Bình Đinh Công binhdinh\n",
       "272              Excel                   Trung Lê Xuân TrungLe\n",
       "248              Excel                  Tiến Nguyễn Đức ndtien\n",
       "235              Excel                     Tiến Ngô Đức ndtien\n",
       "142              Excel                  Kim Dung Ha dung.hakim\n",
       "833              Excel                Phiên Huỳnh Ngọc PhienHN\n",
       "1150             Excel                        Khánh Tạ khanhta\n",
       "1374             Excel         Nguyễn Thị Lam Phương Phuongntl\n",
       "52             PowerBI                 Hùng Nguyễn Mạnh hungnm\n",
       "496            PowerBI                 Nghị Tống Châu tongnghi\n",
       "14             PowerBI                     Hồng Đỗ Bích Hongdb\n",
       "1348           PowerBI       Phan Duy Thanh thanhmk4@gmail.com\n",
       "1180           PowerBI          Ngô Hoàng Quốc Tân tanquoc0309\n",
       "1290           PowerBI                  Linh Tran linhtrankt53\n",
       "106            PowerBI          Nhi Nguyễn Hoàng nhinguyen1807\n",
       "136            PowerBI                   Toan Doan Manh toandm\n",
       "375            PowerBI                    Đinh Quang Vũ qvdinh\n",
       "1162           PowerBI       Thanh Phan Duy thanhmk4@gmail.com\n",
       "105            PowerBI                    Toàn Bùi Đức toanbui\n",
       "377            PowerBI                          Vũ Đinh VuDinh\n",
       "945             Python                    Thinh Do Phu dpthinh\n",
       "984             Python           Khoa Nguyễn Võ Đăng nkhoa1987\n",
       "1335            Python                  Đỗ Văn Hiếu dohieu6868\n",
       "792             Python                      Vũ Ngô Định vu.ngo\n",
       "655             Python              Khanh Nguyen khanhnguyen94\n",
       "1020            Python            Tuong Nguyen nguyendinhtuong\n",
       "1194            Python           Nguyen Huu Minh minhhuunguyen\n",
       "1356            Python    Hieu Nguyen hieunguyen1496@gmail.com\n",
       "1361            Python                Nguyễn Tiến Đình dinhuit\n",
       "1362            Python                     Tiến Ngô Đức ndtien\n",
       "0               Python                 Viet Anh Nguyen vietanh\n",
       "434             Python                 Bình Đinh Công binhdinh\n",
       "371             Python                  Thái Doãn Hoàng thaidh\n",
       "95              Python              Lạc Phạm Xuân nguoibanso25\n",
       "35              Python                  Chuong Nguyen chuongnm\n",
       "55              Python                 Thi Nguyễn Thị Minh Thi\n",
       "23              Python             Nguyễn Mạnh Trường nmtruong\n",
       "9               Python              Hạnh Trần Thị Hồng hanhtth\n",
       "175                  R                  Vũ Nguyễn Anh vuna.vcb\n",
       "907                  R                Phiên Huỳnh Ngọc PhienHN\n",
       "491                  R                 Bình Đinh Công binhdinh\n",
       "1321               SQL                 Phạm Nguyên Hạnh Hanhpn\n",
       "1320               SQL  Lê Như Gia Bình lenhugiabinh@gmail.com\n",
       "26                 SQL                    Toàn Bùi Đức toanbui\n",
       "1274               SQL                             Bùi Tú Tubt\n",
       "1237               SQL                          Toàn Vũ vutoan\n",
       "27                 SQL              Khanh Nguyen khanhnguyen94\n",
       "24                 SQL                  Minh Đinh Công minhdc2\n",
       "1299               SQL               Trực Hoàng Đỗ Can Truchdc\n",
       "366                SQL                 Bình Đinh Công binhdinh\n",
       "1025               SQL                    Thinh Do Phu dpthinh\n",
       "67                 SQL                  Linh Lương Mỹ Linh.ltm\n",
       "77                 SQL                   Huy Thạch Quang huytq\n",
       "128                SQL            Tuong Nguyen nguyendinhtuong\n",
       "810                SQL           Khoa Nguyễn Võ Đăng nkhoa1987\n",
       "809                SQL                  Thái Doãn Hoàng thaidh\n",
       "180                SQL               LA QUOC LUONG laquocluong\n",
       "352                SQL                  Vũ Nguyễn Anh vuna.vcb\n",
       "1142               SQL    Hieu Nguyen hieunguyen1496@gmail.com\n",
       "676                VBA                  Kim Dung Ha dung.hakim\n",
       "643                VBA                  Tiến Nguyễn Đức ndtien\n",
       "4                  VBA                Phiên Huỳnh Ngọc PhienHN\n",
       "61                 VBA                     Tiến Ngô Đức ndtien"
      ]
     },
     "metadata": {},
     "output_type": "display_data"
    },
    {
     "data": {
      "text/plain": [
       "(64, 2)"
      ]
     },
     "execution_count": 19,
     "metadata": {},
     "output_type": "execute_result"
    }
   ],
   "source": [
    "# Hiển thị danh sách các giảng viên theo từng bộ môn giảng dạy tại MCI\n",
    "df0 = df1.iloc[:,3:5]\n",
    "df2 = df0.drop_duplicates().sort_values('course_name')\n",
    "with pd.option_context('display.max_rows', 100, 'display.max_columns', None): \n",
    "    display(df2)\n",
    "df2.shape"
   ]
  },
  {
   "cell_type": "code",
   "execution_count": 20,
   "id": "b367e202-41d2-41ad-8117-91c386545988",
   "metadata": {},
   "outputs": [
    {
     "data": {
      "image/png": "[encoded data removed]",
      "text/plain": [
       "<Figure size 720x432 with 1 Axes>"
      ]
     },
     "metadata": {
      "needs_background": "light"
     },
     "output_type": "display_data"
    }
   ],
   "source": [
    "plt.figure(figsize=(10,6))\n",
    "sns.countplot(data=df1, x='lecturer_name', hue='continued').set(title='Số lượng học viên Tiếp tục học/Dừng hợp tác theo từng giảng viên')\n",
    "plt.xticks(rotation=90)\n",
    "plt.show()"
   ]
  },
  {
   "cell_type": "code",
   "execution_count": 21,
   "id": "d3dda9f2-6e05-472e-8a8f-840a9d05dc2b",
   "metadata": {},
   "outputs": [
    {
     "data": {
      "text/html": [
       "<div>\n",
       "<style scoped>\n",
       "    .dataframe tbody tr th:only-of-type {\n",
       "        vertical-align: middle;\n",
       "    }\n",
       "\n",
       "    .dataframe tbody tr th {\n",
       "        vertical-align: top;\n",
       "    }\n",
       "\n",
       "    .dataframe thead th {\n",
       "        text-align: right;\n",
       "    }\n",
       "</style>\n",
       "<table border=\"1\" class=\"dataframe\">\n",
       "  <thead>\n",
       "    <tr style=\"text-align: right;\">\n",
       "      <th></th>\n",
       "      <th>lecturer_name</th>\n",
       "      <th>end</th>\n",
       "      <th>continued</th>\n",
       "      <th>percent</th>\n",
       "    </tr>\n",
       "  </thead>\n",
       "  <tbody>\n",
       "    <tr>\n",
       "      <th>37</th>\n",
       "      <td>Bùi Tú Tubt</td>\n",
       "      <td>1</td>\n",
       "      <td>15</td>\n",
       "      <td>6.25</td>\n",
       "    </tr>\n",
       "    <tr>\n",
       "      <th>22</th>\n",
       "      <td>Huy Thạch Quang huytq</td>\n",
       "      <td>6</td>\n",
       "      <td>88</td>\n",
       "      <td>6.38</td>\n",
       "    </tr>\n",
       "    <tr>\n",
       "      <th>23</th>\n",
       "      <td>Toan Doan Manh toandm</td>\n",
       "      <td>5</td>\n",
       "      <td>67</td>\n",
       "      <td>6.94</td>\n",
       "    </tr>\n",
       "    <tr>\n",
       "      <th>32</th>\n",
       "      <td>Ngô Hoàng Quốc Tân tanquoc0309</td>\n",
       "      <td>3</td>\n",
       "      <td>34</td>\n",
       "      <td>8.11</td>\n",
       "    </tr>\n",
       "    <tr>\n",
       "      <th>39</th>\n",
       "      <td>Nghị Tống Châu tongnghi</td>\n",
       "      <td>1</td>\n",
       "      <td>11</td>\n",
       "      <td>8.33</td>\n",
       "    </tr>\n",
       "    <tr>\n",
       "      <th>12</th>\n",
       "      <td>Linh Lương Mỹ Linh.ltm</td>\n",
       "      <td>9</td>\n",
       "      <td>92</td>\n",
       "      <td>8.91</td>\n",
       "    </tr>\n",
       "    <tr>\n",
       "      <th>38</th>\n",
       "      <td>Phạm Nguyên Hạnh Hanhpn</td>\n",
       "      <td>1</td>\n",
       "      <td>8</td>\n",
       "      <td>11.11</td>\n",
       "    </tr>\n",
       "    <tr>\n",
       "      <th>15</th>\n",
       "      <td>Tuong Nguyen nguyendinhtuong</td>\n",
       "      <td>7</td>\n",
       "      <td>53</td>\n",
       "      <td>11.67</td>\n",
       "    </tr>\n",
       "    <tr>\n",
       "      <th>35</th>\n",
       "      <td>Vũ Ngô Định vu.ngo</td>\n",
       "      <td>2</td>\n",
       "      <td>14</td>\n",
       "      <td>12.50</td>\n",
       "    </tr>\n",
       "    <tr>\n",
       "      <th>29</th>\n",
       "      <td>LA QUOC LUONG laquocluong</td>\n",
       "      <td>3</td>\n",
       "      <td>20</td>\n",
       "      <td>13.04</td>\n",
       "    </tr>\n",
       "    <tr>\n",
       "      <th>33</th>\n",
       "      <td>Thái Doãn Hoàng thaidh</td>\n",
       "      <td>3</td>\n",
       "      <td>19</td>\n",
       "      <td>13.64</td>\n",
       "    </tr>\n",
       "    <tr>\n",
       "      <th>21</th>\n",
       "      <td>Bình Đinh Công binhdinh</td>\n",
       "      <td>6</td>\n",
       "      <td>34</td>\n",
       "      <td>15.00</td>\n",
       "    </tr>\n",
       "    <tr>\n",
       "      <th>28</th>\n",
       "      <td>Le Thao thaolt.ba</td>\n",
       "      <td>3</td>\n",
       "      <td>15</td>\n",
       "      <td>16.67</td>\n",
       "    </tr>\n",
       "    <tr>\n",
       "      <th>11</th>\n",
       "      <td>Tiến Nguyễn Đức ndtien</td>\n",
       "      <td>9</td>\n",
       "      <td>43</td>\n",
       "      <td>17.31</td>\n",
       "    </tr>\n",
       "    <tr>\n",
       "      <th>26</th>\n",
       "      <td>Vũ Nguyễn Anh vuna.vcb</td>\n",
       "      <td>4</td>\n",
       "      <td>17</td>\n",
       "      <td>19.05</td>\n",
       "    </tr>\n",
       "  </tbody>\n",
       "</table>\n",
       "</div>"
      ],
      "text/plain": [
       "                     lecturer_name  end  continued  percent\n",
       "37                     Bùi Tú Tubt    1         15     6.25\n",
       "22           Huy Thạch Quang huytq    6         88     6.38\n",
       "23           Toan Doan Manh toandm    5         67     6.94\n",
       "32  Ngô Hoàng Quốc Tân tanquoc0309    3         34     8.11\n",
       "39         Nghị Tống Châu tongnghi    1         11     8.33\n",
       "12          Linh Lương Mỹ Linh.ltm    9         92     8.91\n",
       "38         Phạm Nguyên Hạnh Hanhpn    1          8    11.11\n",
       "15    Tuong Nguyen nguyendinhtuong    7         53    11.67\n",
       "35              Vũ Ngô Định vu.ngo    2         14    12.50\n",
       "29       LA QUOC LUONG laquocluong    3         20    13.04\n",
       "33          Thái Doãn Hoàng thaidh    3         19    13.64\n",
       "21         Bình Đinh Công binhdinh    6         34    15.00\n",
       "28               Le Thao thaolt.ba    3         15    16.67\n",
       "11          Tiến Nguyễn Đức ndtien    9         43    17.31\n",
       "26          Vũ Nguyễn Anh vuna.vcb    4         17    19.05"
      ]
     },
     "execution_count": 21,
     "metadata": {},
     "output_type": "execute_result"
    }
   ],
   "source": [
    "count_end = df1[df1['continued']==0].lecturer_name.value_counts().to_frame().reset_index().rename(columns= {'lecturer_name': 'end'})\n",
    "count_continued = df1[df1['continued']==1].lecturer_name.value_counts().to_frame().reset_index().rename(columns= {'lecturer_name': 'continued'})\n",
    "count_done = count_end.merge(count_continued, on='index')\n",
    "count_done['percent'] = round(count_done['end']/(count_done['continued']+count_done['end'])*100,2)\n",
    "count_done = count_done.sort_values(by='percent').rename(columns= {'index': 'lecturer_name'})\n",
    "count_done.head(15)"
   ]
  },
  {
   "cell_type": "markdown",
   "id": "d1023a9c-9a97-4333-937f-ec3c51b9b852",
   "metadata": {},
   "source": [
    "**Insight 2 và đề xuất:**\n",
    "\n",
    "Có thể thấy một số giảng viên nhận được phản hồi tốt, nhận được feedback tiếp tục học vượt trội, từ đó với từng bộ môn giảng dạy, MCI có thể tập trung vào các chương trình học thử/workshop/webinar do các giảng viên đó đứng lớp, nhờ đó dễ dàng hơn trong việc thu hút học viên tham gia học các khoá học tại MCI."
   ]
  },
  {
   "cell_type": "markdown",
   "id": "fd94ab1d-e1fc-4df4-a0e1-2b52604813f0",
   "metadata": {},
   "source": [
    "### Biểu đồ tương quan giữa các cột đặc trưng so với cột nhãn"
   ]
  },
  {
   "cell_type": "code",
   "execution_count": 22,
   "id": "0d1d278a-86fd-4549-8391-4762ac44627f",
   "metadata": {},
   "outputs": [
    {
     "data": {
      "text/html": [
       "<div>\n",
       "<style scoped>\n",
       "    .dataframe tbody tr th:only-of-type {\n",
       "        vertical-align: middle;\n",
       "    }\n",
       "\n",
       "    .dataframe tbody tr th {\n",
       "        vertical-align: top;\n",
       "    }\n",
       "\n",
       "    .dataframe thead th {\n",
       "        text-align: right;\n",
       "    }\n",
       "</style>\n",
       "<table border=\"1\" class=\"dataframe\">\n",
       "  <thead>\n",
       "    <tr style=\"text-align: right;\">\n",
       "      <th></th>\n",
       "      <th>expertise_level</th>\n",
       "      <th>enthusiatic_level</th>\n",
       "      <th>approachable_level</th>\n",
       "      <th>satisfaction_level</th>\n",
       "      <th>study_abroad</th>\n",
       "      <th>continued</th>\n",
       "    </tr>\n",
       "  </thead>\n",
       "  <tbody>\n",
       "    <tr>\n",
       "      <th>expertise_level</th>\n",
       "      <td>1.000000</td>\n",
       "      <td>0.706954</td>\n",
       "      <td>0.617189</td>\n",
       "      <td>0.612270</td>\n",
       "      <td>0.008910</td>\n",
       "      <td>0.547387</td>\n",
       "    </tr>\n",
       "    <tr>\n",
       "      <th>enthusiatic_level</th>\n",
       "      <td>0.706954</td>\n",
       "      <td>1.000000</td>\n",
       "      <td>0.636052</td>\n",
       "      <td>0.646502</td>\n",
       "      <td>0.011011</td>\n",
       "      <td>0.600305</td>\n",
       "    </tr>\n",
       "    <tr>\n",
       "      <th>approachable_level</th>\n",
       "      <td>0.617189</td>\n",
       "      <td>0.636052</td>\n",
       "      <td>1.000000</td>\n",
       "      <td>0.934059</td>\n",
       "      <td>0.014485</td>\n",
       "      <td>0.617061</td>\n",
       "    </tr>\n",
       "    <tr>\n",
       "      <th>satisfaction_level</th>\n",
       "      <td>0.612270</td>\n",
       "      <td>0.646502</td>\n",
       "      <td>0.934059</td>\n",
       "      <td>1.000000</td>\n",
       "      <td>0.013157</td>\n",
       "      <td>0.642495</td>\n",
       "    </tr>\n",
       "    <tr>\n",
       "      <th>study_abroad</th>\n",
       "      <td>0.008910</td>\n",
       "      <td>0.011011</td>\n",
       "      <td>0.014485</td>\n",
       "      <td>0.013157</td>\n",
       "      <td>1.000000</td>\n",
       "      <td>0.004483</td>\n",
       "    </tr>\n",
       "    <tr>\n",
       "      <th>continued</th>\n",
       "      <td>0.547387</td>\n",
       "      <td>0.600305</td>\n",
       "      <td>0.617061</td>\n",
       "      <td>0.642495</td>\n",
       "      <td>0.004483</td>\n",
       "      <td>1.000000</td>\n",
       "    </tr>\n",
       "  </tbody>\n",
       "</table>\n",
       "</div>"
      ],
      "text/plain": [
       "                    expertise_level  enthusiatic_level  approachable_level  \\\n",
       "expertise_level            1.000000           0.706954            0.617189   \n",
       "enthusiatic_level          0.706954           1.000000            0.636052   \n",
       "approachable_level         0.617189           0.636052            1.000000   \n",
       "satisfaction_level         0.612270           0.646502            0.934059   \n",
       "study_abroad               0.008910           0.011011            0.014485   \n",
       "continued                  0.547387           0.600305            0.617061   \n",
       "\n",
       "                    satisfaction_level  study_abroad  continued  \n",
       "expertise_level               0.612270      0.008910   0.547387  \n",
       "enthusiatic_level             0.646502      0.011011   0.600305  \n",
       "approachable_level            0.934059      0.014485   0.617061  \n",
       "satisfaction_level            1.000000      0.013157   0.642495  \n",
       "study_abroad                  0.013157      1.000000   0.004483  \n",
       "continued                     0.642495      0.004483   1.000000  "
      ]
     },
     "execution_count": 22,
     "metadata": {},
     "output_type": "execute_result"
    }
   ],
   "source": [
    "df1.corr()"
   ]
  },
  {
   "cell_type": "code",
   "execution_count": 23,
   "id": "d17ce589-1548-47be-a1af-ac11fce0d445",
   "metadata": {},
   "outputs": [
    {
     "data": {
      "image/png": "[encoded data removed]",
      "text/plain": [
       "<Figure size 432x288 with 2 Axes>"
      ]
     },
     "metadata": {
      "needs_background": "light"
     },
     "output_type": "display_data"
    }
   ],
   "source": [
    "sns.heatmap(data=df1.corr(), annot=True)\n",
    "plt.show()"
   ]
  },
  {
   "cell_type": "markdown",
   "id": "4e2b753c-d8c3-47b5-a113-355f00b5e848",
   "metadata": {},
   "source": [
    "Mục tiêu của chúng ta là tìm được các chỉ số có sự tương quan giữa **Cột nhãn (Continued)** và các chỉ số thuộc các cột còn lại. Các chỉ số thể hiện sự tương quan với **Continued** là:\n",
    "- **expertise_level**: 0.55\n",
    "- **enthusiatc_level:** 0.6\n",
    "- **approachable_level:** 0.62\n",
    "- **satisfaction_level:** 0.64\n",
    "- **study_aboard:** 0.045 -> Chỉ số tương quan của cột này với nhãn thấp => Việc học viên tiếp tục học hay không không bị tác động quá nhiều bởi đặc trưng này -> Có thể cân nhắc loại bỏ đặc trưng này trong khi xây dựng mô hình."
   ]
  },
  {
   "cell_type": "code",
   "execution_count": 24,
   "id": "92d1a8eb-c370-486f-9e10-46c95913a8d6",
   "metadata": {},
   "outputs": [],
   "source": [
    "df = df.drop(columns=['timestamp','name','class_code','feedback_time','understanding_comment','unsatisfaction_thing','building_comment','study_abroad'])"
   ]
  },
  {
   "cell_type": "code",
   "execution_count": 70,
   "id": "44dd3b05-77b7-46da-ae89-a8b5ce2b6dc7",
   "metadata": {},
   "outputs": [
    {
     "data": {
      "text/html": [
       "<div>\n",
       "<style scoped>\n",
       "    .dataframe tbody tr th:only-of-type {\n",
       "        vertical-align: middle;\n",
       "    }\n",
       "\n",
       "    .dataframe tbody tr th {\n",
       "        vertical-align: top;\n",
       "    }\n",
       "\n",
       "    .dataframe thead th {\n",
       "        text-align: right;\n",
       "    }\n",
       "</style>\n",
       "<table border=\"1\" class=\"dataframe\">\n",
       "  <thead>\n",
       "    <tr style=\"text-align: right;\">\n",
       "      <th></th>\n",
       "      <th>course_name</th>\n",
       "      <th>lecturer_name</th>\n",
       "      <th>understanding_level</th>\n",
       "      <th>expertise_level</th>\n",
       "      <th>enthusiatic_level</th>\n",
       "      <th>approachable_level</th>\n",
       "      <th>satisfaction_level</th>\n",
       "      <th>continued</th>\n",
       "    </tr>\n",
       "  </thead>\n",
       "  <tbody>\n",
       "    <tr>\n",
       "      <th>0</th>\n",
       "      <td>3</td>\n",
       "      <td>41</td>\n",
       "      <td>1</td>\n",
       "      <td>5</td>\n",
       "      <td>4</td>\n",
       "      <td>5</td>\n",
       "      <td>5</td>\n",
       "      <td>1</td>\n",
       "    </tr>\n",
       "    <tr>\n",
       "      <th>1</th>\n",
       "      <td>3</td>\n",
       "      <td>41</td>\n",
       "      <td>2</td>\n",
       "      <td>4</td>\n",
       "      <td>4</td>\n",
       "      <td>4</td>\n",
       "      <td>4</td>\n",
       "      <td>0</td>\n",
       "    </tr>\n",
       "    <tr>\n",
       "      <th>2</th>\n",
       "      <td>3</td>\n",
       "      <td>41</td>\n",
       "      <td>2</td>\n",
       "      <td>3</td>\n",
       "      <td>4</td>\n",
       "      <td>4</td>\n",
       "      <td>4</td>\n",
       "      <td>0</td>\n",
       "    </tr>\n",
       "    <tr>\n",
       "      <th>3</th>\n",
       "      <td>3</td>\n",
       "      <td>41</td>\n",
       "      <td>2</td>\n",
       "      <td>4</td>\n",
       "      <td>5</td>\n",
       "      <td>4</td>\n",
       "      <td>4</td>\n",
       "      <td>1</td>\n",
       "    </tr>\n",
       "    <tr>\n",
       "      <th>4</th>\n",
       "      <td>6</td>\n",
       "      <td>27</td>\n",
       "      <td>2</td>\n",
       "      <td>5</td>\n",
       "      <td>4</td>\n",
       "      <td>5</td>\n",
       "      <td>5</td>\n",
       "      <td>1</td>\n",
       "    </tr>\n",
       "  </tbody>\n",
       "</table>\n",
       "</div>"
      ],
      "text/plain": [
       "   course_name  lecturer_name  understanding_level  expertise_level  \\\n",
       "0            3             41                    1                5   \n",
       "1            3             41                    2                4   \n",
       "2            3             41                    2                3   \n",
       "3            3             41                    2                4   \n",
       "4            6             27                    2                5   \n",
       "\n",
       "   enthusiatic_level  approachable_level  satisfaction_level  continued  \n",
       "0                  4                   5                   5          1  \n",
       "1                  4                   4                   4          0  \n",
       "2                  4                   4                   4          0  \n",
       "3                  5                   4                   4          1  \n",
       "4                  4                   5                   5          1  "
      ]
     },
     "execution_count": 70,
     "metadata": {},
     "output_type": "execute_result"
    }
   ],
   "source": [
    "df.head(5)"
   ]
  },
  {
   "cell_type": "code",
   "execution_count": 26,
   "id": "e7e43a27-48c9-4246-a279-f5a88e59860a",
   "metadata": {},
   "outputs": [],
   "source": [
    "X = df.drop(columns = ['continued'])\n",
    "Y = df.continued"
   ]
  },
  {
   "cell_type": "markdown",
   "id": "8ee23c7d-3f59-4c38-8f85-ba3d0fe16436",
   "metadata": {},
   "source": [
    "### Áp dụng kĩ thuật `Upsampling`\n",
    "- Khi tập dữ liệu classification có tỉ lệ nhãn chênh lệch lớn, dù có xây dựng mô hình tốt đến đâu, nó cũng sẽ fit dữ liệu vào phần tỉ lệ nhãn chiếm nhiều hơn (nói cách khác, mô hình sẽ học rất tốt vào phần nhãn trả về kết quả = 1) => Khả năng cao dự đoán cho phần nhãn ít hơn sẽ không tốt bằng.\n",
    "Do đó, Upsampling sẽ đẩy phần dữ liệu nhãn đang có tỉ trọng thấp hơn bằng với số lượng bản ghi của phần nhãn có tỉ trọng cao hơn.\n",
    "**Lưu ý: Việc Upsampling không phải sẽ nhân đúp các bản ghi mà nó sẽ lấy những thông tin lân cận của dữ liệu, dựa theo hành vi của những dữ liệu trong khoảng của chúng để tạo ra các bản ghi mới => Khả năng học được từ nhãn khi được upsampling sẽ cao hơn**"
   ]
  },
  {
   "cell_type": "code",
   "execution_count": 27,
   "id": "ca240b74-d78c-4d58-9dff-9067038ee582",
   "metadata": {},
   "outputs": [],
   "source": [
    "smote = SMOTE()\n",
    "X, Y = smote.fit_resample(X, Y)"
   ]
  },
  {
   "cell_type": "code",
   "execution_count": 28,
   "id": "b1648a36-908d-4084-ada0-1a7127a380f4",
   "metadata": {},
   "outputs": [
    {
     "data": {
      "text/plain": [
       "1    1125\n",
       "0    1125\n",
       "Name: continued, dtype: int64"
      ]
     },
     "execution_count": 28,
     "metadata": {},
     "output_type": "execute_result"
    }
   ],
   "source": [
    "Y.value_counts()"
   ]
  },
  {
   "cell_type": "markdown",
   "id": "fb1fcd9f-1fdb-4685-984f-1c196974b0bc",
   "metadata": {},
   "source": [
    "## 5. Huấn luyện mô hình (Train model)\n",
    "- Logistic Regression\n",
    "- Decision Tree\n",
    "- Random Forest"
   ]
  },
  {
   "cell_type": "markdown",
   "id": "1701c329-a692-4a8f-851b-e6528dcd0b8f",
   "metadata": {},
   "source": [
    "### 5.1. Mô hình Logistic Regression\n",
    "![](https://miro.medium.com/max/1280/1*CYAn9ACXrWX3IneHSoMVOQ.gif)\n",
    "\n",
    "Logistic Regression là 1 thuật toán phân loại được dùng để gán các đối tượng cho 1 tập hợp giá trị rời rạc (như 0, 1, 2, …). Một ví dụ điển hình là phân loại Email, gồm có email công việc, email gia đình, email spam,… giao dịch trực tuyến có là an toàn hay không an toàn, khối u lành tính hay ác tình. Thuật toán trên dùng hàm sigmoid logistic để đưa ra đánh giá theo xác suất. Ví dụ: Khối u này 80% là lành tính, giao dịch này 90% là gian lận,…"
   ]
  },
  {
   "cell_type": "markdown",
   "id": "2f5b6601-dc82-425b-a557-bcdd9b87f915",
   "metadata": {},
   "source": [
    "#### 5.1.1. Chia tập dữ liệu thành các phần với tỉ lệ huấn luyện/dự đoán: 80/20\n",
    "- **xtrain:** Tập đặc trưng để đưa vào huấn luyện\n",
    "- **xtest:** Tập đặc trưng để đưa vào dự đoán\n",
    "- **ytrain:** Tập nhãn để đưa vào huấn luyện\n",
    "- **ytest:** Tập nhãn để đưa vào dự đoán"
   ]
  },
  {
   "cell_type": "code",
   "execution_count": 30,
   "id": "7ffba72a-ab13-418f-abba-169496fe3100",
   "metadata": {},
   "outputs": [],
   "source": [
    "xtrain, xtest, ytrain, ytest = train_test_split(X, Y, test_size = 0.2, random_state=42)"
   ]
  },
  {
   "cell_type": "markdown",
   "id": "b5c162ec-4d63-4965-85da-268fb2a3a687",
   "metadata": {},
   "source": [
    "**`Kiểm tra dữ liệu đã chia đúng hay chưa?`**"
   ]
  },
  {
   "cell_type": "code",
   "execution_count": 31,
   "id": "65d0b8f3-0137-45a4-9f72-a872fb2cabbc",
   "metadata": {},
   "outputs": [
    {
     "data": {
      "text/plain": [
       "((1800, 7), (450, 7), (1800,), (450,))"
      ]
     },
     "execution_count": 31,
     "metadata": {},
     "output_type": "execute_result"
    }
   ],
   "source": [
    "xtrain.shape, xtest.shape, ytrain.shape, ytest.shape"
   ]
  },
  {
   "cell_type": "code",
   "execution_count": 32,
   "id": "b0279bd4-b5a3-4c6e-b7dd-cf047fbe131e",
   "metadata": {},
   "outputs": [],
   "source": [
    "clf = LogisticRegression(max_iter=1000)"
   ]
  },
  {
   "cell_type": "markdown",
   "id": "77580ec3-0241-4110-9df0-0280649d979c",
   "metadata": {},
   "source": [
    "#### 5.1.2. Đưa tập dữ liệu xtrain, ytrain vào huấn luyện"
   ]
  },
  {
   "cell_type": "code",
   "execution_count": 33,
   "id": "b89e16df-e9ce-4768-aece-07f0ecc969b8",
   "metadata": {},
   "outputs": [
    {
     "data": {
      "text/plain": [
       "LogisticRegression(max_iter=1000)"
      ]
     },
     "execution_count": 33,
     "metadata": {},
     "output_type": "execute_result"
    }
   ],
   "source": [
    "clf.fit(xtrain,ytrain)"
   ]
  },
  {
   "cell_type": "markdown",
   "id": "f1ff1393-838b-4647-a1f0-8776ace02b8a",
   "metadata": {},
   "source": [
    "**`Sau khi huấn luyện mô hình, tiến hành dự đoán dữ liệu trên tập kiểm thử`**"
   ]
  },
  {
   "cell_type": "code",
   "execution_count": 34,
   "id": "5483f3f9-cc88-4f79-9c0f-8ebd8631a79f",
   "metadata": {},
   "outputs": [
    {
     "data": {
      "text/plain": [
       "array([1, 0, 1, 1, 0, 0, 0, 0, 1, 0, 0, 0, 0, 1, 1, 1, 1, 0, 1, 0, 1, 0,\n",
       "       1, 0, 0, 0, 1, 1, 0, 1, 1, 1, 0, 1, 1, 1, 0, 0, 1, 0, 0, 0, 1, 1,\n",
       "       0, 0, 0, 0, 1, 0, 0, 1, 0, 0, 0, 0, 0, 0, 1, 0, 0, 1, 0, 1, 0, 0,\n",
       "       0, 1, 1, 0, 0, 0, 0, 0, 1, 0, 0, 0, 1, 1, 1, 0, 0, 0, 1, 0, 1, 0,\n",
       "       0, 1, 0, 0, 0, 0, 0, 1, 1, 0, 1, 0, 0, 1, 0, 1, 1, 1, 1, 1, 1, 1,\n",
       "       0, 0, 0, 1, 0, 1, 1, 1, 0, 0, 0, 1, 1, 0, 1, 0, 0, 0, 1, 0, 1, 1,\n",
       "       1, 0, 1, 1, 0, 1, 1, 1, 0, 0, 0, 0, 0, 0, 1, 0, 0, 0, 0, 1, 1, 1,\n",
       "       0, 0, 0, 0, 0, 1, 0, 1, 0, 1, 0, 1, 1, 0, 0, 0, 0, 0, 0, 0, 1, 0,\n",
       "       1, 1, 1, 0, 0, 1, 1, 1, 1, 1, 1, 0, 0, 1, 1, 1, 1, 0, 0, 0, 0, 1,\n",
       "       1, 0, 0, 1, 1, 1, 1, 0, 0, 1, 1, 0, 0, 0, 1, 1, 0, 0, 0, 1, 0, 1,\n",
       "       1, 0, 0, 0, 1, 0, 0, 0, 1, 1, 0, 0, 0, 0, 1, 0, 1, 0, 1, 1, 0, 1,\n",
       "       1, 1, 1, 0, 0, 0, 1, 1, 1, 1, 1, 1, 0, 0, 1, 1, 0, 1, 1, 0, 0, 0,\n",
       "       0, 1, 1, 1, 1, 0, 1, 1, 0, 1, 0, 0, 1, 1, 1, 1, 0, 1, 0, 0, 0, 1,\n",
       "       0, 0, 1, 1, 0, 1, 1, 1, 1, 1, 0, 0, 1, 0, 1, 0, 1, 1, 1, 1, 1, 0,\n",
       "       0, 0, 1, 0, 0, 0, 0, 0, 1, 0, 1, 1, 1, 1, 0, 1, 1, 1, 1, 0, 1, 1,\n",
       "       1, 0, 1, 1, 1, 0, 1, 1, 0, 0, 0, 1, 1, 0, 1, 0, 0, 0, 1, 0, 1, 1,\n",
       "       1, 0, 1, 1, 1, 1, 0, 1, 1, 0, 0, 0, 0, 0, 0, 0, 1, 1, 1, 1, 0, 1,\n",
       "       1, 0, 1, 0, 0, 0, 1, 0, 0, 0, 0, 1, 1, 1, 0, 0, 1, 1, 0, 0, 0, 1,\n",
       "       0, 0, 1, 1, 0, 1, 0, 1, 1, 0, 1, 0, 1, 1, 1, 0, 1, 1, 0, 0, 0, 0,\n",
       "       1, 0, 1, 0, 1, 0, 0, 0, 1, 0, 0, 1, 1, 0, 0, 1, 0, 0, 1, 1, 0, 1,\n",
       "       1, 0, 0, 1, 0, 1, 1, 0, 1, 0])"
      ]
     },
     "execution_count": 34,
     "metadata": {},
     "output_type": "execute_result"
    }
   ],
   "source": [
    "y_predict = clf.predict(xtest)\n",
    "y_predict"
   ]
  },
  {
   "cell_type": "markdown",
   "id": "2f3f7cdb-8748-4374-b672-ed58d1bcd54a",
   "metadata": {},
   "source": [
    "#### 5.1.3. Đánh giá mô hình Classification: Logistic Regression"
   ]
  },
  {
   "cell_type": "markdown",
   "id": "b2411284-b5f4-41d9-90a9-618da829fdcd",
   "metadata": {},
   "source": [
    "Dataframe so sánh giữa kết quả nhãn nhận được từ mô hình và kết quả với tập nhãn gốc dựa trên tập kiểm thử:"
   ]
  },
  {
   "cell_type": "code",
   "execution_count": 35,
   "id": "af8f0dee-c505-463b-9b75-0d3ed1d43439",
   "metadata": {},
   "outputs": [
    {
     "data": {
      "text/html": [
       "<div>\n",
       "<style scoped>\n",
       "    .dataframe tbody tr th:only-of-type {\n",
       "        vertical-align: middle;\n",
       "    }\n",
       "\n",
       "    .dataframe tbody tr th {\n",
       "        vertical-align: top;\n",
       "    }\n",
       "\n",
       "    .dataframe thead th {\n",
       "        text-align: right;\n",
       "    }\n",
       "</style>\n",
       "<table border=\"1\" class=\"dataframe\">\n",
       "  <thead>\n",
       "    <tr style=\"text-align: right;\">\n",
       "      <th></th>\n",
       "      <th>prediction</th>\n",
       "      <th>groundtruth</th>\n",
       "    </tr>\n",
       "  </thead>\n",
       "  <tbody>\n",
       "    <tr>\n",
       "      <th>940</th>\n",
       "      <td>1</td>\n",
       "      <td>1</td>\n",
       "    </tr>\n",
       "    <tr>\n",
       "      <th>482</th>\n",
       "      <td>0</td>\n",
       "      <td>1</td>\n",
       "    </tr>\n",
       "    <tr>\n",
       "      <th>581</th>\n",
       "      <td>1</td>\n",
       "      <td>1</td>\n",
       "    </tr>\n",
       "    <tr>\n",
       "      <th>247</th>\n",
       "      <td>1</td>\n",
       "      <td>1</td>\n",
       "    </tr>\n",
       "    <tr>\n",
       "      <th>1659</th>\n",
       "      <td>0</td>\n",
       "      <td>0</td>\n",
       "    </tr>\n",
       "    <tr>\n",
       "      <th>...</th>\n",
       "      <td>...</td>\n",
       "      <td>...</td>\n",
       "    </tr>\n",
       "    <tr>\n",
       "      <th>115</th>\n",
       "      <td>1</td>\n",
       "      <td>1</td>\n",
       "    </tr>\n",
       "    <tr>\n",
       "      <th>76</th>\n",
       "      <td>1</td>\n",
       "      <td>1</td>\n",
       "    </tr>\n",
       "    <tr>\n",
       "      <th>416</th>\n",
       "      <td>0</td>\n",
       "      <td>1</td>\n",
       "    </tr>\n",
       "    <tr>\n",
       "      <th>1249</th>\n",
       "      <td>1</td>\n",
       "      <td>1</td>\n",
       "    </tr>\n",
       "    <tr>\n",
       "      <th>1952</th>\n",
       "      <td>0</td>\n",
       "      <td>0</td>\n",
       "    </tr>\n",
       "  </tbody>\n",
       "</table>\n",
       "<p>450 rows × 2 columns</p>\n",
       "</div>"
      ],
      "text/plain": [
       "      prediction  groundtruth\n",
       "940            1            1\n",
       "482            0            1\n",
       "581            1            1\n",
       "247            1            1\n",
       "1659           0            0\n",
       "...          ...          ...\n",
       "115            1            1\n",
       "76             1            1\n",
       "416            0            1\n",
       "1249           1            1\n",
       "1952           0            0\n",
       "\n",
       "[450 rows x 2 columns]"
      ]
     },
     "execution_count": 35,
     "metadata": {},
     "output_type": "execute_result"
    }
   ],
   "source": [
    "pd.DataFrame({'prediction':y_predict,\n",
    "              'groundtruth': ytest})"
   ]
  },
  {
   "cell_type": "markdown",
   "id": "f69f7a25-4848-4a18-ba51-4eeead4d06f1",
   "metadata": {},
   "source": [
    "**4 tiêu chí cơ bản để đánh giá mô hình:**\n",
    "   - `accuracy`\n",
    "   - `recall`\n",
    "   - `f1-score`\n",
    "   - `precision`"
   ]
  },
  {
   "cell_type": "code",
   "execution_count": 36,
   "id": "a43de928-8438-4dac-8a75-caa1907e517a",
   "metadata": {},
   "outputs": [
    {
     "name": "stdout",
     "output_type": "stream",
     "text": [
      "              precision    recall  f1-score   support\n",
      "\n",
      "           0       0.89      0.91      0.90       228\n",
      "           1       0.90      0.89      0.90       222\n",
      "\n",
      "    accuracy                           0.90       450\n",
      "   macro avg       0.90      0.90      0.90       450\n",
      "weighted avg       0.90      0.90      0.90       450\n",
      "\n"
     ]
    }
   ],
   "source": [
    "print(classification_report(ytest, y_predict))"
   ]
  },
  {
   "cell_type": "markdown",
   "id": "2e02210a-3148-4dab-8484-accac7224e0b",
   "metadata": {},
   "source": [
    "   - `accuracy`: 90%\n",
    "   - `recall`: nhãn 0: 91%, nhãn 1: 89%\n",
    "   - `f1-score`: nhãn 0: 90%, nhãn 1: 90%\n",
    "   - `precision`: nhãn 0: 89%, nhãn 1: 90%"
   ]
  },
  {
   "cell_type": "markdown",
   "id": "78f054bf-6a8b-4ced-aef0-40bd60bd2207",
   "metadata": {},
   "source": [
    "### **`Confusion Matrix`**"
   ]
  },
  {
   "cell_type": "code",
   "execution_count": 37,
   "id": "22ad0f4c-e6bc-4ab0-b487-2601c47b846b",
   "metadata": {},
   "outputs": [
    {
     "data": {
      "text/plain": [
       "array([[207,  21],\n",
       "       [ 25, 197]])"
      ]
     },
     "execution_count": 37,
     "metadata": {},
     "output_type": "execute_result"
    }
   ],
   "source": [
    "cfs_mtrix = confusion_matrix(ytest, y_predict)\n",
    "cfs_mtrix"
   ]
  },
  {
   "cell_type": "code",
   "execution_count": 38,
   "id": "080e3235-8692-482b-ba59-6b3197c59c7e",
   "metadata": {},
   "outputs": [
    {
     "data": {
      "image/png": "[encoded data removed]",
      "text/plain": [
       "<Figure size 432x288 with 2 Axes>"
      ]
     },
     "metadata": {
      "needs_background": "light"
     },
     "output_type": "display_data"
    }
   ],
   "source": [
    "name = ['True Negative','False Positive','False Negative','True Positive']\n",
    "labels = np.asarray([f'{i}\\n\\n{j}' for i, j in zip(name, cfs_mtrix.flatten())]);\n",
    "sns.heatmap(cfs_mtrix, annot=labels.reshape(2,2), fmt='')\n",
    "plt.show()"
   ]
  },
  {
   "cell_type": "markdown",
   "id": "9788fe5c-1726-4817-8635-2fce1aafe1ea",
   "metadata": {},
   "source": [
    "- `True Negative`: Kết quả trên tập nhãn gốc là 'Dừng hợp tác', mô hình dự đoán là 'Dừng hợp tác' (207 kết quả)\n",
    "- `False Positive`: Kết quả trên tập nhãn gốc là 'Dừng hợp tác', mô hình dự đoán là 'Tiếp tục' (21 kết quả)\n",
    "- `False Negative`: Kết quả trên tập nhãn gốc là 'Tiếp tục', mô hình dự đoán là 'Dừng hợp tác' (25 kết quả)\n",
    "- `True Positive`: Kết quả trên tập nhãn gốc là 'Tiếp tục', mô hình dự đoán là 'Tiếp tục' (197 kết quả)"
   ]
  },
  {
   "cell_type": "markdown",
   "id": "1e743bfa-5aaf-4978-bcba-ad6ab1536063",
   "metadata": {},
   "source": [
    "### 5.2. Mô hình Cây quyết định (Decision Tree)\n",
    "![](https://miro.medium.com/max/1200/1*Bg0_UGT6xo89Ij-GX61yPg.png)\n",
    "Cây quyết định là một kiểu mô hình dự báo (predictive model), nghĩa là một ánh xạ từ các quan sát về một sự vật/hiện tượng tới các kết luận về giá trị mục tiêu của sự vật/hiện tượng. Mỗi một nút trong (internal node) tương ứng với một biến; đường nối giữa nó với nút con của nó thể hiện một giá trị cụ thể cho biến đó. Mỗi nút lá đại diện cho giá trị dự đoán của biến mục tiêu, cho trước các giá trị của các biến được biểu diễn bởi đường đi từ nút gốc tới nút lá đó."
   ]
  },
  {
   "cell_type": "markdown",
   "id": "bee4b511-f6b2-4115-b74a-0aa8615870af",
   "metadata": {},
   "source": [
    "#### 5.2.1. Chia tập dữ liệu thành các phần với tỉ lệ huấn luyện/dự đoán: 80/20\n",
    "- **xtrain:** Tập đặc trưng để đưa vào huấn luyện\n",
    "- **xtest:** Tập đặc trưng để đưa vào dự đoán\n",
    "- **ytrain:** Tập nhãn để đưa vào huấn luyện\n",
    "- **ytest:** Tập nhãn để đưa vào dự đoán"
   ]
  },
  {
   "cell_type": "markdown",
   "id": "517ba6a8-04f5-4d2b-9e14-c161456679df",
   "metadata": {},
   "source": [
    "xtrain, xtest, ytrain, ytest"
   ]
  },
  {
   "cell_type": "markdown",
   "id": "cf529635-ccde-4c30-b455-7f95a79290a9",
   "metadata": {},
   "source": [
    "#### 5.2.2. Đưa tập dữ liệu xtrain, ytrain vào huấn luyện"
   ]
  },
  {
   "cell_type": "code",
   "execution_count": 56,
   "id": "61b53b50-db4a-4ca2-9c46-3293bf817b2a",
   "metadata": {},
   "outputs": [],
   "source": [
    "tree = DecisionTreeClassifier(criterion='gini')"
   ]
  },
  {
   "cell_type": "code",
   "execution_count": 57,
   "id": "06141ab4-efd9-4ca9-a97a-a22ca4d11338",
   "metadata": {},
   "outputs": [
    {
     "data": {
      "text/plain": [
       "DecisionTreeClassifier()"
      ]
     },
     "execution_count": 57,
     "metadata": {},
     "output_type": "execute_result"
    }
   ],
   "source": [
    "tree.fit(xtrain, ytrain)"
   ]
  },
  {
   "cell_type": "code",
   "execution_count": 58,
   "id": "f4337795-bafa-4b63-88ed-99a86598e7e0",
   "metadata": {},
   "outputs": [
    {
     "data": {
      "text/plain": [
       "array([1, 0, 1, 0, 0, 0, 0, 0, 0, 0, 0, 0, 0, 1, 1, 0, 1, 0, 1, 0, 1, 0,\n",
       "       1, 0, 0, 0, 1, 1, 0, 1, 1, 1, 0, 1, 1, 1, 0, 0, 1, 0, 1, 0, 1, 1,\n",
       "       0, 0, 0, 0, 1, 0, 0, 1, 0, 0, 0, 0, 0, 0, 1, 0, 1, 1, 0, 1, 0, 0,\n",
       "       0, 1, 1, 0, 0, 0, 0, 0, 1, 1, 0, 0, 1, 1, 1, 0, 0, 0, 1, 0, 1, 0,\n",
       "       0, 1, 0, 0, 0, 0, 0, 1, 1, 1, 1, 0, 0, 1, 1, 1, 1, 1, 1, 1, 1, 1,\n",
       "       0, 1, 0, 1, 0, 1, 1, 1, 0, 0, 0, 1, 1, 0, 1, 0, 0, 0, 1, 0, 1, 1,\n",
       "       1, 0, 1, 1, 1, 1, 1, 1, 0, 0, 0, 0, 0, 0, 1, 0, 0, 0, 1, 1, 1, 1,\n",
       "       0, 0, 0, 0, 0, 1, 0, 1, 1, 1, 0, 1, 0, 0, 0, 0, 0, 0, 0, 0, 1, 0,\n",
       "       1, 1, 1, 0, 0, 1, 1, 1, 1, 1, 1, 0, 0, 1, 1, 1, 1, 0, 0, 0, 1, 0,\n",
       "       1, 0, 0, 1, 1, 1, 1, 0, 0, 0, 1, 0, 0, 0, 1, 1, 0, 0, 0, 1, 0, 1,\n",
       "       1, 0, 0, 0, 1, 0, 0, 0, 1, 1, 1, 0, 0, 0, 1, 0, 1, 0, 1, 1, 0, 1,\n",
       "       1, 1, 1, 0, 0, 0, 1, 1, 1, 1, 1, 1, 0, 0, 0, 1, 0, 1, 1, 0, 0, 0,\n",
       "       0, 1, 1, 1, 1, 0, 1, 0, 1, 1, 0, 0, 1, 1, 1, 1, 0, 1, 0, 0, 0, 1,\n",
       "       0, 0, 1, 1, 0, 1, 1, 1, 1, 1, 0, 0, 0, 0, 1, 0, 0, 1, 1, 0, 1, 0,\n",
       "       0, 0, 1, 0, 1, 1, 0, 1, 1, 0, 1, 1, 1, 1, 0, 0, 1, 1, 1, 0, 1, 1,\n",
       "       1, 0, 1, 1, 1, 0, 1, 1, 0, 0, 0, 0, 1, 0, 1, 0, 0, 0, 1, 0, 1, 0,\n",
       "       1, 0, 1, 1, 1, 1, 0, 1, 1, 0, 0, 0, 0, 0, 0, 0, 1, 1, 1, 1, 0, 1,\n",
       "       1, 0, 1, 0, 0, 0, 1, 0, 0, 0, 0, 1, 1, 1, 0, 0, 1, 1, 0, 0, 0, 1,\n",
       "       0, 0, 1, 1, 1, 1, 0, 1, 1, 0, 0, 0, 1, 1, 1, 0, 1, 1, 0, 0, 0, 0,\n",
       "       1, 0, 1, 0, 1, 0, 0, 0, 1, 0, 0, 1, 1, 0, 0, 1, 0, 1, 1, 1, 0, 1,\n",
       "       1, 0, 0, 1, 0, 1, 1, 1, 1, 0])"
      ]
     },
     "execution_count": 58,
     "metadata": {},
     "output_type": "execute_result"
    }
   ],
   "source": [
    "y_pred = tree.predict(xtest)\n",
    "y_pred"
   ]
  },
  {
   "cell_type": "markdown",
   "id": "faa29fe5-6f40-4ec7-a836-631a0803f767",
   "metadata": {},
   "source": [
    "Dataframe so sánh giữa kết quả nhãn nhận được từ mô hình và kết quả với tập nhãn gốc dựa trên tập kiểm thử:"
   ]
  },
  {
   "cell_type": "code",
   "execution_count": 60,
   "id": "371fe1bb-c98b-4474-8706-aed21cdd0fd1",
   "metadata": {},
   "outputs": [
    {
     "data": {
      "text/html": [
       "<div>\n",
       "<style scoped>\n",
       "    .dataframe tbody tr th:only-of-type {\n",
       "        vertical-align: middle;\n",
       "    }\n",
       "\n",
       "    .dataframe tbody tr th {\n",
       "        vertical-align: top;\n",
       "    }\n",
       "\n",
       "    .dataframe thead th {\n",
       "        text-align: right;\n",
       "    }\n",
       "</style>\n",
       "<table border=\"1\" class=\"dataframe\">\n",
       "  <thead>\n",
       "    <tr style=\"text-align: right;\">\n",
       "      <th></th>\n",
       "      <th>prediction</th>\n",
       "      <th>groundtruth</th>\n",
       "    </tr>\n",
       "  </thead>\n",
       "  <tbody>\n",
       "    <tr>\n",
       "      <th>940</th>\n",
       "      <td>1</td>\n",
       "      <td>1</td>\n",
       "    </tr>\n",
       "    <tr>\n",
       "      <th>482</th>\n",
       "      <td>0</td>\n",
       "      <td>1</td>\n",
       "    </tr>\n",
       "    <tr>\n",
       "      <th>581</th>\n",
       "      <td>1</td>\n",
       "      <td>1</td>\n",
       "    </tr>\n",
       "    <tr>\n",
       "      <th>247</th>\n",
       "      <td>0</td>\n",
       "      <td>1</td>\n",
       "    </tr>\n",
       "    <tr>\n",
       "      <th>1659</th>\n",
       "      <td>0</td>\n",
       "      <td>0</td>\n",
       "    </tr>\n",
       "    <tr>\n",
       "      <th>...</th>\n",
       "      <td>...</td>\n",
       "      <td>...</td>\n",
       "    </tr>\n",
       "    <tr>\n",
       "      <th>115</th>\n",
       "      <td>1</td>\n",
       "      <td>1</td>\n",
       "    </tr>\n",
       "    <tr>\n",
       "      <th>76</th>\n",
       "      <td>1</td>\n",
       "      <td>1</td>\n",
       "    </tr>\n",
       "    <tr>\n",
       "      <th>416</th>\n",
       "      <td>1</td>\n",
       "      <td>1</td>\n",
       "    </tr>\n",
       "    <tr>\n",
       "      <th>1249</th>\n",
       "      <td>1</td>\n",
       "      <td>1</td>\n",
       "    </tr>\n",
       "    <tr>\n",
       "      <th>1952</th>\n",
       "      <td>0</td>\n",
       "      <td>0</td>\n",
       "    </tr>\n",
       "  </tbody>\n",
       "</table>\n",
       "<p>450 rows × 2 columns</p>\n",
       "</div>"
      ],
      "text/plain": [
       "      prediction  groundtruth\n",
       "940            1            1\n",
       "482            0            1\n",
       "581            1            1\n",
       "247            0            1\n",
       "1659           0            0\n",
       "...          ...          ...\n",
       "115            1            1\n",
       "76             1            1\n",
       "416            1            1\n",
       "1249           1            1\n",
       "1952           0            0\n",
       "\n",
       "[450 rows x 2 columns]"
      ]
     },
     "execution_count": 60,
     "metadata": {},
     "output_type": "execute_result"
    }
   ],
   "source": [
    "pd.DataFrame({'prediction':y_pred,\n",
    "              'groundtruth': ytest})"
   ]
  },
  {
   "cell_type": "markdown",
   "id": "3c86a705-ef1f-4236-869c-cb1dc5032f94",
   "metadata": {},
   "source": [
    "#### 5.2.3. Đánh giá mô hình Decision Tree"
   ]
  },
  {
   "cell_type": "code",
   "execution_count": 61,
   "id": "c5efb1ec-bdf8-43c4-8202-5dac50241ad6",
   "metadata": {},
   "outputs": [
    {
     "name": "stdout",
     "output_type": "stream",
     "text": [
      "              precision    recall  f1-score   support\n",
      "\n",
      "           0       0.93      0.94      0.94       228\n",
      "           1       0.94      0.93      0.93       222\n",
      "\n",
      "    accuracy                           0.94       450\n",
      "   macro avg       0.94      0.94      0.94       450\n",
      "weighted avg       0.94      0.94      0.94       450\n",
      "\n"
     ]
    }
   ],
   "source": [
    "print(classification_report(ytest, y_pred))"
   ]
  },
  {
   "cell_type": "markdown",
   "id": "92ab2a72-7892-4142-80dd-3a1dff7f5990",
   "metadata": {},
   "source": [
    "   - `accuracy`: 94%\n",
    "   - `recall`: nhãn 0: 94%, nhãn 1: 93%\n",
    "   - `f1-score`: nhãn 0: 94%, nhãn 1: 91%\n",
    "   - `precision`: nhãn 0: 93%, nhãn 1: 94%"
   ]
  },
  {
   "cell_type": "code",
   "execution_count": 62,
   "id": "85098195-5027-43ff-9397-744e6bf54c8c",
   "metadata": {},
   "outputs": [
    {
     "data": {
      "text/plain": [
       "array([[214,  14],\n",
       "       [ 15, 207]])"
      ]
     },
     "execution_count": 62,
     "metadata": {},
     "output_type": "execute_result"
    }
   ],
   "source": [
    "tree_cm = confusion_matrix(ytest, y_pred)\n",
    "tree_cm"
   ]
  },
  {
   "cell_type": "code",
   "execution_count": 63,
   "id": "ffcb7b38-4bb2-4333-b07c-4a6cf9e8daaa",
   "metadata": {},
   "outputs": [
    {
     "data": {
      "image/png": "[encoded data removed]",
      "text/plain": [
       "<Figure size 432x288 with 2 Axes>"
      ]
     },
     "metadata": {
      "needs_background": "light"
     },
     "output_type": "display_data"
    }
   ],
   "source": [
    "name = ['True Negative','False Positive','False Negative','True Positive']\n",
    "labels = np.asarray([f'{i}\\n\\n{j}' for i, j in zip(name, tree_cm.flatten())]);\n",
    "sns.heatmap(tree_cm, annot=labels.reshape(2,2), fmt='')\n",
    "plt.show()"
   ]
  },
  {
   "cell_type": "markdown",
   "id": "f90d84f5-ef2e-43d6-9215-37f2f2912451",
   "metadata": {},
   "source": [
    "- `True Negative`: Kết quả trên tập nhãn gốc là 'Dừng hợp tác', mô hình dự đoán là 'Dừng hợp tác' (214 kết quả)\n",
    "- `False Positive`: Kết quả trên tập nhãn gốc là 'Dừng hợp tác', mô hình dự đoán là 'Tiếp tục' (14 kết quả)\n",
    "- `False Negative`: Kết quả trên tập nhãn gốc là 'Tiếp tục', mô hình dự đoán là 'Dừng hợp tác' (15 kết quả)\n",
    "- `True Positive`: Kết quả trên tập nhãn gốc là 'Tiếp tục', mô hình dự đoán là 'Tiếp tục' (207 kết quả)"
   ]
  },
  {
   "cell_type": "markdown",
   "id": "72a153b5-5403-427a-a37a-42b3a70a0c33",
   "metadata": {},
   "source": [
    "### 5.3. Mô hình Random Forest"
   ]
  },
  {
   "cell_type": "markdown",
   "id": "48a2706e-1b67-4fc3-80fb-65f703475c91",
   "metadata": {},
   "source": [
    "![](https://www.tibco.com/sites/tibco/files/media_entity/2021-05/random-forest-diagram.svg)\n",
    "\n",
    "Random Forest có thể coi là một 'rừng' các cây quyết định. Cơ chế hoạt động của thuật toán này là thay vì lấy toàn bộ tập dữ liệu vào trong một cây quyết định, mỗi cây trong Random Forest sẽ chỉ lấy khoảng 80% các biến, các đặc trưng, và thuật toán này sẽ huấn luyện các cây con để đưa ra các bộ rules khác nhau. Sau khi đã thu thập đủ các kết quả từ các cây con, kết quả nào xuất hiện với tần suất cao nhất sẽ được lựa chọn làm kết quả cuối cùng."
   ]
  },
  {
   "cell_type": "markdown",
   "id": "358a23bf-0ecb-4dec-98be-de7b63195fbb",
   "metadata": {},
   "source": [
    "#### 5.3.1. Chia tập dữ liệu thành các phần với tỉ lệ huấn luyện/dự đoán: 80/20\n",
    "- **xtrain:** Tập đặc trưng để đưa vào huấn luyện\n",
    "- **xtest:** Tập đặc trưng để đưa vào dự đoán\n",
    "- **ytrain:** Tập nhãn để đưa vào huấn luyện\n",
    "- **ytest:** Tập nhãn để đưa vào dự đoán"
   ]
  },
  {
   "cell_type": "markdown",
   "id": "14e5cc91-73c4-4b87-9873-879931ecaa57",
   "metadata": {},
   "source": [
    "#### 5.3.2. Đưa tập dữ liệu xtrain, ytrain vào huấn luyện"
   ]
  },
  {
   "cell_type": "code",
   "execution_count": 47,
   "id": "53a1f63f-1d3c-42d3-975d-200566ee9920",
   "metadata": {},
   "outputs": [],
   "source": [
    "forest = RandomForestClassifier()"
   ]
  },
  {
   "cell_type": "code",
   "execution_count": 48,
   "id": "bf3e2a40-ac62-4a9b-b1d0-04be8f260c88",
   "metadata": {},
   "outputs": [
    {
     "data": {
      "text/plain": [
       "RandomForestClassifier()"
      ]
     },
     "execution_count": 48,
     "metadata": {},
     "output_type": "execute_result"
    }
   ],
   "source": [
    "forest.fit(xtrain, ytrain)"
   ]
  },
  {
   "cell_type": "code",
   "execution_count": 49,
   "id": "1456f9c8-45e2-4537-9a77-ad2b05ba300c",
   "metadata": {},
   "outputs": [],
   "source": [
    "y_predict2 = forest.predict(xtest)"
   ]
  },
  {
   "cell_type": "markdown",
   "id": "b1f7a311-6766-4fda-8b07-78597ca7a207",
   "metadata": {},
   "source": [
    "#### 5.3.3. Đánh giá mô hình Random Forest"
   ]
  },
  {
   "cell_type": "code",
   "execution_count": 50,
   "id": "77f5e6f9-e340-4549-95d4-fa27e7296972",
   "metadata": {},
   "outputs": [
    {
     "name": "stdout",
     "output_type": "stream",
     "text": [
      "              precision    recall  f1-score   support\n",
      "\n",
      "           0       0.93      0.91      0.92       228\n",
      "           1       0.91      0.93      0.92       222\n",
      "\n",
      "    accuracy                           0.92       450\n",
      "   macro avg       0.92      0.92      0.92       450\n",
      "weighted avg       0.92      0.92      0.92       450\n",
      "\n"
     ]
    }
   ],
   "source": [
    "print(classification_report(ytest, y_predict2))"
   ]
  },
  {
   "cell_type": "markdown",
   "id": "333789b3-5bdf-4ad2-a8e9-b5aaf1b12c8a",
   "metadata": {},
   "source": [
    "   - `accuracy`: 92%\n",
    "   - `recall`: nhãn 0: 93%, nhãn 1: 91%\n",
    "   - `f1-score`: nhãn 0: 92%, nhãn 1: 92%\n",
    "   - `precision`: nhãn 0: 93%, nhãn 1: 91%"
   ]
  },
  {
   "cell_type": "code",
   "execution_count": 54,
   "id": "88b27218-b00d-4723-872a-2b6deb4eb245",
   "metadata": {},
   "outputs": [],
   "source": [
    "forest_cm = confusion_matrix(ytest, y_predict2)"
   ]
  },
  {
   "cell_type": "code",
   "execution_count": 52,
   "id": "3a54d5a4-a604-4634-a574-347f814acb67",
   "metadata": {},
   "outputs": [
    {
     "data": {
      "image/png": "[encoded data removed]",
      "text/plain": [
       "<Figure size 432x288 with 2 Axes>"
      ]
     },
     "metadata": {
      "needs_background": "light"
     },
     "output_type": "display_data"
    }
   ],
   "source": [
    "name = ['True Negative','False Positive','False Negative','True Positive']\n",
    "labels = np.asarray([f'{i}\\n\\n{j}' for i, j in zip(name, forest_cm.flatten())]);\n",
    "sns.heatmap(forest_cm, annot=labels.reshape(2,2), fmt='')\n",
    "plt.show()"
   ]
  },
  {
   "cell_type": "markdown",
   "id": "f3e3d265-0d5f-4a7b-9737-0e89df5f95dd",
   "metadata": {},
   "source": [
    "- `True Negative`: Kết quả trên tập nhãn gốc là 'Dừng hợp tác', mô hình dự đoán là 'Dừng hợp tác' (208 kết quả)\n",
    "- `False Positive`: Kết quả trên tập nhãn gốc là 'Dừng hợp tác', mô hình dự đoán là 'Tiếp tục' (20 kết quả)\n",
    "- `False Negative`: Kết quả trên tập nhãn gốc là 'Tiếp tục', mô hình dự đoán là 'Dừng hợp tác' (16 kết quả)\n",
    "- `True Positive`: Kết quả trên tập nhãn gốc là 'Tiếp tục', mô hình dự đoán là 'Tiếp tục' (206 kết quả)"
   ]
  },
  {
   "cell_type": "markdown",
   "id": "25f8ea7b-ee97-4232-83cb-0b65f9f6abee",
   "metadata": {},
   "source": [
    "## 6. Kết luận\n",
    "Mô hình được lựa chọn để đưa vào hệ thống của MCI là **Decision Tree** bởi:\n",
    "- Xét theo các tiêu chí đánh giá mô hình của cả 3 thuật toán (Logistic Regression, Decision Tree và Random Forest), các thang điểm của Decision Tree đạt ngưỡng tốt nhất, các giá trị được dự đoán bởi mô hình trả về không chính xác theo tập nhãn thấp nhất."
   ]
  },
  {
   "cell_type": "code",
   "execution_count": 64,
   "id": "d0b51995-f8e8-4830-8d46-568618d19e97",
   "metadata": {},
   "outputs": [],
   "source": [
    "# Lưu mô hình\n",
    "import pickle\n",
    "pickle.dump(tree, open('model.pkl','wb'))"
   ]
  },
  {
   "cell_type": "markdown",
   "id": "0647ebf7-6e3a-414f-9e19-0b2e168586ea",
   "metadata": {},
   "source": [
    "## 7. Tiến hành đưa mô hình vào hệ thống"
   ]
  }
 ],
 "metadata": {
  "kernelspec": {
   "display_name": "Python 3 (ipykernel)",
   "language": "python",
   "name": "python3"
  },
  "language_info": {
   "codemirror_mode": {
    "name": "ipython",
    "version": 3
   },
   "file_extension": ".py",
   "mimetype": "text/x-python",
   "name": "python",
   "nbconvert_exporter": "python",
   "pygments_lexer": "ipython3",
   "version": "3.8.12"
  }
 },
 "nbformat": 4,
 "nbformat_minor": 5
}
